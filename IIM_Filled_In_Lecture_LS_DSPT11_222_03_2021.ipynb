{
  "nbformat": 4,
  "nbformat_minor": 0,
  "metadata": {
    "kernelspec": {
      "display_name": "Python 3",
      "language": "python",
      "name": "python3"
    },
    "language_info": {
      "codemirror_mode": {
        "name": "ipython",
        "version": 3
      },
      "file_extension": ".py",
      "mimetype": "text/x-python",
      "name": "python",
      "nbconvert_exporter": "python",
      "pygments_lexer": "ipython3",
      "version": "3.7.3"
    },
    "colab": {
      "name": "IIM Filled In Lecture LS_DSPT11_222-03-2021.ipynb",
      "provenance": [],
      "collapsed_sections": [],
      "include_colab_link": true
    },
    "widgets": {
      "application/vnd.jupyter.widget-state+json": {
        "dba90ec0f09845d0bbee7a15c5c023d2": {
          "model_module": "@jupyter-widgets/controls",
          "model_name": "VBoxModel",
          "state": {
            "_view_name": "VBoxView",
            "_dom_classes": [
              "widget-interact"
            ],
            "_model_name": "VBoxModel",
            "_view_module": "@jupyter-widgets/controls",
            "_model_module_version": "1.5.0",
            "_view_count": null,
            "_view_module_version": "1.5.0",
            "box_style": "",
            "layout": "IPY_MODEL_364ab34d8345465d8050f46d18288f64",
            "_model_module": "@jupyter-widgets/controls",
            "children": [
              "IPY_MODEL_e0b04d0086d64e84a34d7589fc32fd6a",
              "IPY_MODEL_d3105cb1fccf4e42acff90a4b0b87708",
              "IPY_MODEL_4699de001c8244a48fbe2163eb27553a"
            ]
          }
        },
        "364ab34d8345465d8050f46d18288f64": {
          "model_module": "@jupyter-widgets/base",
          "model_name": "LayoutModel",
          "state": {
            "_view_name": "LayoutView",
            "grid_template_rows": null,
            "right": null,
            "justify_content": null,
            "_view_module": "@jupyter-widgets/base",
            "overflow": null,
            "_model_module_version": "1.2.0",
            "_view_count": null,
            "flex_flow": null,
            "width": null,
            "min_width": null,
            "border": null,
            "align_items": null,
            "bottom": null,
            "_model_module": "@jupyter-widgets/base",
            "top": null,
            "grid_column": null,
            "overflow_y": null,
            "overflow_x": null,
            "grid_auto_flow": null,
            "grid_area": null,
            "grid_template_columns": null,
            "flex": null,
            "_model_name": "LayoutModel",
            "justify_items": null,
            "grid_row": null,
            "max_height": null,
            "align_content": null,
            "visibility": null,
            "align_self": null,
            "height": null,
            "min_height": null,
            "padding": null,
            "grid_auto_rows": null,
            "grid_gap": null,
            "max_width": null,
            "order": null,
            "_view_module_version": "1.2.0",
            "grid_template_areas": null,
            "object_position": null,
            "object_fit": null,
            "grid_auto_columns": null,
            "margin": null,
            "display": null,
            "left": null
          }
        },
        "e0b04d0086d64e84a34d7589fc32fd6a": {
          "model_module": "@jupyter-widgets/controls",
          "model_name": "IntSliderModel",
          "state": {
            "_view_name": "IntSliderView",
            "style": "IPY_MODEL_ac50bde92f1e4abe99ce5f4f83d18fcd",
            "_dom_classes": [],
            "description": "max_depth",
            "step": 1,
            "_model_name": "IntSliderModel",
            "orientation": "horizontal",
            "max": 6,
            "_view_module": "@jupyter-widgets/controls",
            "_model_module_version": "1.5.0",
            "value": 1,
            "_view_count": null,
            "disabled": false,
            "_view_module_version": "1.5.0",
            "min": 1,
            "continuous_update": true,
            "readout_format": "d",
            "description_tooltip": null,
            "readout": true,
            "_model_module": "@jupyter-widgets/controls",
            "layout": "IPY_MODEL_cb3686629c6e4876ab9bf1dc3be1b5f4"
          }
        },
        "d3105cb1fccf4e42acff90a4b0b87708": {
          "model_module": "@jupyter-widgets/controls",
          "model_name": "IntSliderModel",
          "state": {
            "_view_name": "IntSliderView",
            "style": "IPY_MODEL_ac6f8172cdde44dda87421cfae6097be",
            "_dom_classes": [],
            "description": "n_estimators",
            "step": 10,
            "_model_name": "IntSliderModel",
            "orientation": "horizontal",
            "max": 40,
            "_view_module": "@jupyter-widgets/controls",
            "_model_module_version": "1.5.0",
            "value": 40,
            "_view_count": null,
            "disabled": false,
            "_view_module_version": "1.5.0",
            "min": 10,
            "continuous_update": true,
            "readout_format": "d",
            "description_tooltip": null,
            "readout": true,
            "_model_module": "@jupyter-widgets/controls",
            "layout": "IPY_MODEL_368a953636f0434f9b47c81bd1fcaf33"
          }
        },
        "4699de001c8244a48fbe2163eb27553a": {
          "model_module": "@jupyter-widgets/output",
          "model_name": "OutputModel",
          "state": {
            "_view_name": "OutputView",
            "msg_id": "",
            "_dom_classes": [],
            "_model_name": "OutputModel",
            "outputs": [
              {
                "output_type": "display_data",
                "metadata": {
                  "tags": [],
                  "needs_background": "light"
                },
                "image/png": "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\n",
                "text/plain": "<Figure size 432x288 with 1 Axes>"
              },
              {
                "output_type": "display_data",
                "metadata": {
                  "tags": [],
                  "needs_background": "light"
                },
                "image/png": "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\n",
                "text/plain": "<Figure size 432x288 with 1 Axes>"
              }
            ],
            "_view_module": "@jupyter-widgets/output",
            "_model_module_version": "1.0.0",
            "_view_count": null,
            "_view_module_version": "1.0.0",
            "layout": "IPY_MODEL_ae03c86c7f5a44ef97cc20c9cae46065",
            "_model_module": "@jupyter-widgets/output"
          }
        },
        "ac50bde92f1e4abe99ce5f4f83d18fcd": {
          "model_module": "@jupyter-widgets/controls",
          "model_name": "SliderStyleModel",
          "state": {
            "_view_name": "StyleView",
            "handle_color": null,
            "_model_name": "SliderStyleModel",
            "description_width": "",
            "_view_module": "@jupyter-widgets/base",
            "_model_module_version": "1.5.0",
            "_view_count": null,
            "_view_module_version": "1.2.0",
            "_model_module": "@jupyter-widgets/controls"
          }
        },
        "cb3686629c6e4876ab9bf1dc3be1b5f4": {
          "model_module": "@jupyter-widgets/base",
          "model_name": "LayoutModel",
          "state": {
            "_view_name": "LayoutView",
            "grid_template_rows": null,
            "right": null,
            "justify_content": null,
            "_view_module": "@jupyter-widgets/base",
            "overflow": null,
            "_model_module_version": "1.2.0",
            "_view_count": null,
            "flex_flow": null,
            "width": null,
            "min_width": null,
            "border": null,
            "align_items": null,
            "bottom": null,
            "_model_module": "@jupyter-widgets/base",
            "top": null,
            "grid_column": null,
            "overflow_y": null,
            "overflow_x": null,
            "grid_auto_flow": null,
            "grid_area": null,
            "grid_template_columns": null,
            "flex": null,
            "_model_name": "LayoutModel",
            "justify_items": null,
            "grid_row": null,
            "max_height": null,
            "align_content": null,
            "visibility": null,
            "align_self": null,
            "height": null,
            "min_height": null,
            "padding": null,
            "grid_auto_rows": null,
            "grid_gap": null,
            "max_width": null,
            "order": null,
            "_view_module_version": "1.2.0",
            "grid_template_areas": null,
            "object_position": null,
            "object_fit": null,
            "grid_auto_columns": null,
            "margin": null,
            "display": null,
            "left": null
          }
        },
        "ac6f8172cdde44dda87421cfae6097be": {
          "model_module": "@jupyter-widgets/controls",
          "model_name": "SliderStyleModel",
          "state": {
            "_view_name": "StyleView",
            "handle_color": null,
            "_model_name": "SliderStyleModel",
            "description_width": "",
            "_view_module": "@jupyter-widgets/base",
            "_model_module_version": "1.5.0",
            "_view_count": null,
            "_view_module_version": "1.2.0",
            "_model_module": "@jupyter-widgets/controls"
          }
        },
        "368a953636f0434f9b47c81bd1fcaf33": {
          "model_module": "@jupyter-widgets/base",
          "model_name": "LayoutModel",
          "state": {
            "_view_name": "LayoutView",
            "grid_template_rows": null,
            "right": null,
            "justify_content": null,
            "_view_module": "@jupyter-widgets/base",
            "overflow": null,
            "_model_module_version": "1.2.0",
            "_view_count": null,
            "flex_flow": null,
            "width": null,
            "min_width": null,
            "border": null,
            "align_items": null,
            "bottom": null,
            "_model_module": "@jupyter-widgets/base",
            "top": null,
            "grid_column": null,
            "overflow_y": null,
            "overflow_x": null,
            "grid_auto_flow": null,
            "grid_area": null,
            "grid_template_columns": null,
            "flex": null,
            "_model_name": "LayoutModel",
            "justify_items": null,
            "grid_row": null,
            "max_height": null,
            "align_content": null,
            "visibility": null,
            "align_self": null,
            "height": null,
            "min_height": null,
            "padding": null,
            "grid_auto_rows": null,
            "grid_gap": null,
            "max_width": null,
            "order": null,
            "_view_module_version": "1.2.0",
            "grid_template_areas": null,
            "object_position": null,
            "object_fit": null,
            "grid_auto_columns": null,
            "margin": null,
            "display": null,
            "left": null
          }
        },
        "ae03c86c7f5a44ef97cc20c9cae46065": {
          "model_module": "@jupyter-widgets/base",
          "model_name": "LayoutModel",
          "state": {
            "_view_name": "LayoutView",
            "grid_template_rows": null,
            "right": null,
            "justify_content": null,
            "_view_module": "@jupyter-widgets/base",
            "overflow": null,
            "_model_module_version": "1.2.0",
            "_view_count": null,
            "flex_flow": null,
            "width": null,
            "min_width": null,
            "border": null,
            "align_items": null,
            "bottom": null,
            "_model_module": "@jupyter-widgets/base",
            "top": null,
            "grid_column": null,
            "overflow_y": null,
            "overflow_x": null,
            "grid_auto_flow": null,
            "grid_area": null,
            "grid_template_columns": null,
            "flex": null,
            "_model_name": "LayoutModel",
            "justify_items": null,
            "grid_row": null,
            "max_height": null,
            "align_content": null,
            "visibility": null,
            "align_self": null,
            "height": null,
            "min_height": null,
            "padding": null,
            "grid_auto_rows": null,
            "grid_gap": null,
            "max_width": null,
            "order": null,
            "_view_module_version": "1.2.0",
            "grid_template_areas": null,
            "object_position": null,
            "object_fit": null,
            "grid_auto_columns": null,
            "margin": null,
            "display": null,
            "left": null
          }
        },
        "de26e3a250f740379e5351457ac8fe95": {
          "model_module": "@jupyter-widgets/controls",
          "model_name": "VBoxModel",
          "state": {
            "_view_name": "VBoxView",
            "_dom_classes": [
              "widget-interact"
            ],
            "_model_name": "VBoxModel",
            "_view_module": "@jupyter-widgets/controls",
            "_model_module_version": "1.5.0",
            "_view_count": null,
            "_view_module_version": "1.5.0",
            "box_style": "",
            "layout": "IPY_MODEL_ee06e521563f4216a1ec7ce744ddeb1c",
            "_model_module": "@jupyter-widgets/controls",
            "children": [
              "IPY_MODEL_0a8eb341ff124c97b4f6e9a634477d4e",
              "IPY_MODEL_d8fd23bcca824482986b351be1414715",
              "IPY_MODEL_2c893b45d22144d2b18bc8eebd0438a3"
            ]
          }
        },
        "ee06e521563f4216a1ec7ce744ddeb1c": {
          "model_module": "@jupyter-widgets/base",
          "model_name": "LayoutModel",
          "state": {
            "_view_name": "LayoutView",
            "grid_template_rows": null,
            "right": null,
            "justify_content": null,
            "_view_module": "@jupyter-widgets/base",
            "overflow": null,
            "_model_module_version": "1.2.0",
            "_view_count": null,
            "flex_flow": null,
            "width": null,
            "min_width": null,
            "border": null,
            "align_items": null,
            "bottom": null,
            "_model_module": "@jupyter-widgets/base",
            "top": null,
            "grid_column": null,
            "overflow_y": null,
            "overflow_x": null,
            "grid_auto_flow": null,
            "grid_area": null,
            "grid_template_columns": null,
            "flex": null,
            "_model_name": "LayoutModel",
            "justify_items": null,
            "grid_row": null,
            "max_height": null,
            "align_content": null,
            "visibility": null,
            "align_self": null,
            "height": null,
            "min_height": null,
            "padding": null,
            "grid_auto_rows": null,
            "grid_gap": null,
            "max_width": null,
            "order": null,
            "_view_module_version": "1.2.0",
            "grid_template_areas": null,
            "object_position": null,
            "object_fit": null,
            "grid_auto_columns": null,
            "margin": null,
            "display": null,
            "left": null
          }
        },
        "0a8eb341ff124c97b4f6e9a634477d4e": {
          "model_module": "@jupyter-widgets/controls",
          "model_name": "IntSliderModel",
          "state": {
            "_view_name": "IntSliderView",
            "style": "IPY_MODEL_3d6e530a78a74ffca107645ae865f7f8",
            "_dom_classes": [],
            "description": "max_depth",
            "step": 1,
            "_model_name": "IntSliderModel",
            "orientation": "horizontal",
            "max": 6,
            "_view_module": "@jupyter-widgets/controls",
            "_model_module_version": "1.5.0",
            "value": 3,
            "_view_count": null,
            "disabled": false,
            "_view_module_version": "1.5.0",
            "min": 1,
            "continuous_update": true,
            "readout_format": "d",
            "description_tooltip": null,
            "readout": true,
            "_model_module": "@jupyter-widgets/controls",
            "layout": "IPY_MODEL_229d8be60f554207a74c3106470b4d62"
          }
        },
        "d8fd23bcca824482986b351be1414715": {
          "model_module": "@jupyter-widgets/controls",
          "model_name": "IntSliderModel",
          "state": {
            "_view_name": "IntSliderView",
            "style": "IPY_MODEL_fb48ed3d844e4f21ab3e6a8a3e4f0203",
            "_dom_classes": [],
            "description": "n_estimators",
            "step": 10,
            "_model_name": "IntSliderModel",
            "orientation": "horizontal",
            "max": 40,
            "_view_module": "@jupyter-widgets/controls",
            "_model_module_version": "1.5.0",
            "value": 10,
            "_view_count": null,
            "disabled": false,
            "_view_module_version": "1.5.0",
            "min": 10,
            "continuous_update": true,
            "readout_format": "d",
            "description_tooltip": null,
            "readout": true,
            "_model_module": "@jupyter-widgets/controls",
            "layout": "IPY_MODEL_27d4b5db58f84512bf166cfb5b498b24"
          }
        },
        "2c893b45d22144d2b18bc8eebd0438a3": {
          "model_module": "@jupyter-widgets/output",
          "model_name": "OutputModel",
          "state": {
            "_view_name": "OutputView",
            "msg_id": "",
            "_dom_classes": [],
            "_model_name": "OutputModel",
            "outputs": [
              {
                "output_type": "display_data",
                "metadata": {
                  "tags": [],
                  "needs_background": "light"
                },
                "image/png": "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\n",
                "text/plain": "<Figure size 432x288 with 2 Axes>"
              },
              {
                "output_type": "display_data",
                "metadata": {
                  "tags": [],
                  "needs_background": "light"
                },
                "image/png": "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\n",
                "text/plain": "<Figure size 432x288 with 2 Axes>"
              },
              {
                "output_type": "display_data",
                "metadata": {
                  "tags": [],
                  "needs_background": "light"
                },
                "image/png": "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\n",
                "text/plain": "<Figure size 432x288 with 2 Axes>"
              }
            ],
            "_view_module": "@jupyter-widgets/output",
            "_model_module_version": "1.0.0",
            "_view_count": null,
            "_view_module_version": "1.0.0",
            "layout": "IPY_MODEL_8004add3f4934230bee18a712d45c742",
            "_model_module": "@jupyter-widgets/output"
          }
        },
        "3d6e530a78a74ffca107645ae865f7f8": {
          "model_module": "@jupyter-widgets/controls",
          "model_name": "SliderStyleModel",
          "state": {
            "_view_name": "StyleView",
            "handle_color": null,
            "_model_name": "SliderStyleModel",
            "description_width": "",
            "_view_module": "@jupyter-widgets/base",
            "_model_module_version": "1.5.0",
            "_view_count": null,
            "_view_module_version": "1.2.0",
            "_model_module": "@jupyter-widgets/controls"
          }
        },
        "229d8be60f554207a74c3106470b4d62": {
          "model_module": "@jupyter-widgets/base",
          "model_name": "LayoutModel",
          "state": {
            "_view_name": "LayoutView",
            "grid_template_rows": null,
            "right": null,
            "justify_content": null,
            "_view_module": "@jupyter-widgets/base",
            "overflow": null,
            "_model_module_version": "1.2.0",
            "_view_count": null,
            "flex_flow": null,
            "width": null,
            "min_width": null,
            "border": null,
            "align_items": null,
            "bottom": null,
            "_model_module": "@jupyter-widgets/base",
            "top": null,
            "grid_column": null,
            "overflow_y": null,
            "overflow_x": null,
            "grid_auto_flow": null,
            "grid_area": null,
            "grid_template_columns": null,
            "flex": null,
            "_model_name": "LayoutModel",
            "justify_items": null,
            "grid_row": null,
            "max_height": null,
            "align_content": null,
            "visibility": null,
            "align_self": null,
            "height": null,
            "min_height": null,
            "padding": null,
            "grid_auto_rows": null,
            "grid_gap": null,
            "max_width": null,
            "order": null,
            "_view_module_version": "1.2.0",
            "grid_template_areas": null,
            "object_position": null,
            "object_fit": null,
            "grid_auto_columns": null,
            "margin": null,
            "display": null,
            "left": null
          }
        },
        "fb48ed3d844e4f21ab3e6a8a3e4f0203": {
          "model_module": "@jupyter-widgets/controls",
          "model_name": "SliderStyleModel",
          "state": {
            "_view_name": "StyleView",
            "handle_color": null,
            "_model_name": "SliderStyleModel",
            "description_width": "",
            "_view_module": "@jupyter-widgets/base",
            "_model_module_version": "1.5.0",
            "_view_count": null,
            "_view_module_version": "1.2.0",
            "_model_module": "@jupyter-widgets/controls"
          }
        },
        "27d4b5db58f84512bf166cfb5b498b24": {
          "model_module": "@jupyter-widgets/base",
          "model_name": "LayoutModel",
          "state": {
            "_view_name": "LayoutView",
            "grid_template_rows": null,
            "right": null,
            "justify_content": null,
            "_view_module": "@jupyter-widgets/base",
            "overflow": null,
            "_model_module_version": "1.2.0",
            "_view_count": null,
            "flex_flow": null,
            "width": null,
            "min_width": null,
            "border": null,
            "align_items": null,
            "bottom": null,
            "_model_module": "@jupyter-widgets/base",
            "top": null,
            "grid_column": null,
            "overflow_y": null,
            "overflow_x": null,
            "grid_auto_flow": null,
            "grid_area": null,
            "grid_template_columns": null,
            "flex": null,
            "_model_name": "LayoutModel",
            "justify_items": null,
            "grid_row": null,
            "max_height": null,
            "align_content": null,
            "visibility": null,
            "align_self": null,
            "height": null,
            "min_height": null,
            "padding": null,
            "grid_auto_rows": null,
            "grid_gap": null,
            "max_width": null,
            "order": null,
            "_view_module_version": "1.2.0",
            "grid_template_areas": null,
            "object_position": null,
            "object_fit": null,
            "grid_auto_columns": null,
            "margin": null,
            "display": null,
            "left": null
          }
        },
        "8004add3f4934230bee18a712d45c742": {
          "model_module": "@jupyter-widgets/base",
          "model_name": "LayoutModel",
          "state": {
            "_view_name": "LayoutView",
            "grid_template_rows": null,
            "right": null,
            "justify_content": null,
            "_view_module": "@jupyter-widgets/base",
            "overflow": null,
            "_model_module_version": "1.2.0",
            "_view_count": null,
            "flex_flow": null,
            "width": null,
            "min_width": null,
            "border": null,
            "align_items": null,
            "bottom": null,
            "_model_module": "@jupyter-widgets/base",
            "top": null,
            "grid_column": null,
            "overflow_y": null,
            "overflow_x": null,
            "grid_auto_flow": null,
            "grid_area": null,
            "grid_template_columns": null,
            "flex": null,
            "_model_name": "LayoutModel",
            "justify_items": null,
            "grid_row": null,
            "max_height": null,
            "align_content": null,
            "visibility": null,
            "align_self": null,
            "height": null,
            "min_height": null,
            "padding": null,
            "grid_auto_rows": null,
            "grid_gap": null,
            "max_width": null,
            "order": null,
            "_view_module_version": "1.2.0",
            "grid_template_areas": null,
            "object_position": null,
            "object_fit": null,
            "grid_auto_columns": null,
            "margin": null,
            "display": null,
            "left": null
          }
        },
        "e966fe4e88b745d68fc1f704fe096240": {
          "model_module": "@jupyter-widgets/controls",
          "model_name": "VBoxModel",
          "state": {
            "_view_name": "VBoxView",
            "_dom_classes": [
              "widget-interact"
            ],
            "_model_name": "VBoxModel",
            "_view_module": "@jupyter-widgets/controls",
            "_model_module_version": "1.5.0",
            "_view_count": null,
            "_view_module_version": "1.5.0",
            "box_style": "",
            "layout": "IPY_MODEL_82bec0a78a7d414d97b6025291ceeb52",
            "_model_module": "@jupyter-widgets/controls",
            "children": [
              "IPY_MODEL_44a3dba1830a475691fa8eada90113fd",
              "IPY_MODEL_01ac574b3ede44999c6f49aa26ea23d0",
              "IPY_MODEL_fa822bcc22d0403db84ba28c12cd639b"
            ]
          }
        },
        "82bec0a78a7d414d97b6025291ceeb52": {
          "model_module": "@jupyter-widgets/base",
          "model_name": "LayoutModel",
          "state": {
            "_view_name": "LayoutView",
            "grid_template_rows": null,
            "right": null,
            "justify_content": null,
            "_view_module": "@jupyter-widgets/base",
            "overflow": null,
            "_model_module_version": "1.2.0",
            "_view_count": null,
            "flex_flow": null,
            "width": null,
            "min_width": null,
            "border": null,
            "align_items": null,
            "bottom": null,
            "_model_module": "@jupyter-widgets/base",
            "top": null,
            "grid_column": null,
            "overflow_y": null,
            "overflow_x": null,
            "grid_auto_flow": null,
            "grid_area": null,
            "grid_template_columns": null,
            "flex": null,
            "_model_name": "LayoutModel",
            "justify_items": null,
            "grid_row": null,
            "max_height": null,
            "align_content": null,
            "visibility": null,
            "align_self": null,
            "height": null,
            "min_height": null,
            "padding": null,
            "grid_auto_rows": null,
            "grid_gap": null,
            "max_width": null,
            "order": null,
            "_view_module_version": "1.2.0",
            "grid_template_areas": null,
            "object_position": null,
            "object_fit": null,
            "grid_auto_columns": null,
            "margin": null,
            "display": null,
            "left": null
          }
        },
        "44a3dba1830a475691fa8eada90113fd": {
          "model_module": "@jupyter-widgets/controls",
          "model_name": "IntSliderModel",
          "state": {
            "_view_name": "IntSliderView",
            "style": "IPY_MODEL_b3ebbdc816dd4aaaa45fe3fc22f315ea",
            "_dom_classes": [],
            "description": "max_depth",
            "step": 1,
            "_model_name": "IntSliderModel",
            "orientation": "horizontal",
            "max": 6,
            "_view_module": "@jupyter-widgets/controls",
            "_model_module_version": "1.5.0",
            "value": 6,
            "_view_count": null,
            "disabled": false,
            "_view_module_version": "1.5.0",
            "min": 1,
            "continuous_update": true,
            "readout_format": "d",
            "description_tooltip": null,
            "readout": true,
            "_model_module": "@jupyter-widgets/controls",
            "layout": "IPY_MODEL_bf60b30ea1e8401fb4e4ee04826603de"
          }
        },
        "01ac574b3ede44999c6f49aa26ea23d0": {
          "model_module": "@jupyter-widgets/controls",
          "model_name": "IntSliderModel",
          "state": {
            "_view_name": "IntSliderView",
            "style": "IPY_MODEL_d515631f26f6433f9b67d8ec5e02424d",
            "_dom_classes": [],
            "description": "n_estimators",
            "step": 1,
            "_model_name": "IntSliderModel",
            "orientation": "horizontal",
            "max": 5,
            "_view_module": "@jupyter-widgets/controls",
            "_model_module_version": "1.5.0",
            "value": 5,
            "_view_count": null,
            "disabled": false,
            "_view_module_version": "1.5.0",
            "min": 2,
            "continuous_update": true,
            "readout_format": "d",
            "description_tooltip": null,
            "readout": true,
            "_model_module": "@jupyter-widgets/controls",
            "layout": "IPY_MODEL_213388635c7c4f48aebbb1a643fbfe38"
          }
        },
        "fa822bcc22d0403db84ba28c12cd639b": {
          "model_module": "@jupyter-widgets/output",
          "model_name": "OutputModel",
          "state": {
            "_view_name": "OutputView",
            "msg_id": "",
            "_dom_classes": [],
            "_model_name": "OutputModel",
            "outputs": [
              {
                "output_type": "display_data",
                "metadata": {
                  "tags": [],
                  "needs_background": "light"
                },
                "image/png": "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\n",
                "text/plain": "<Figure size 432x288 with 2 Axes>"
              },
              {
                "output_type": "display_data",
                "metadata": {
                  "tags": [],
                  "needs_background": "light"
                },
                "image/png": "iVBORw0KGgoAAAANSUhEUgAAAVoAAAEFCAYAAACiiS9UAAAABHNCSVQICAgIfAhkiAAAAAlwSFlzAAALEgAACxIB0t1+/AAAADh0RVh0U29mdHdhcmUAbWF0cGxvdGxpYiB2ZXJzaW9uMy4yLjIsIGh0dHA6Ly9tYXRwbG90bGliLm9yZy+WH4yJAAAVTUlEQVR4nO3dfZRdVXnH8e8vA+EtAaUgSsJLwKCiokQEWrWwCtjAKoRSFLBasUgUxbZS0VgRKYrVWnGV1Sx1rFQEJAVcdM2SIFpeu3hNIJKSYDCESCbI+0vDi0lm7tM/7gm5TGbmnjtz9pxzZn4f1lncu8+++zxxxWdtnrPPPooIzMwsnUllB2BmNt450ZqZJeZEa2aWmBOtmVliTrRmZok50ZqZJeZEa2aWmBOttSXphZajIenllu9/meia20j6oaTfSlon6VeSjk5xLbPUtio7AKu+iJiy6bOk1cDHI+K/B/aTtFVE9BV02a2ANcBhwCPAMcCVkt4eEasLuobZmPCM1kZM0uGSeiV9QdJjwH9ImiRpnqSHJD0t6UpJO7f85lBJt0t6TtJ9kg4fbOyIeDEizouI1RHRiIifAQ8D7xqbP51ZcZxobbReD+wM7AXMBT4DHE9zJro78CwwH0DSNOBa4GvZbz4H/FTSru0uImk3YD9gWfF/BLO0nGhttBrAVyJifUS8DHwS+FJE9EbEeuA84ERJWwEfBhZGxMJslvpLYDHNssCQJG0NXA5cEhG/TvmHMUvBNVobrScj4vct3/cCrpHUaGnrB3bLzn1A0rEt57YGbhpqcEmTgEuBDcCZhUVtNoacaG20Bm7/tgb464i4bWBHSWuASyPi9DwDSxLwQ5pJ+piI2DjaYM3K4NKBFe17wAWS9gKQtKukOdm5y4BjJf2ppC5J22Y31KYPMdZ3gbcAx2ZlCbNacqK1ov0r0AP8QtI64E7gEICIWAPMAf4BeJLm7PdsBvl7mCXqTwDvBB5LvW7XLCV5428zs7Q8ozUzS8yJ1syshaSLJT0h6f4hzkvSRZJWSloqaVa7MZ1ozcxe7UfA7GHOHw3MzI65NG/aDsuJ1sysRUTcCjwzTJc5wI+j6U7gNZLeMNyYSdbR3rX7CQFw3dbbvdJ2e+Ppjsf5av/2xQVVUwsmTx7za569++Njfs0qee1ZRxQ21mV/5wfZ2jm99zKNdoyNT63KfVd/8q77foLmTHST7ojo7uBy02iumNmkN2v73VA/8AMLZjahZEm1k8Q6ak60ZlZ/jf6xvNpaYI+W79OztiG5Rmtm9dffl/8YvR7gr7LVB4cCz0fEkGUD8IzWzMaBiEb7TjlJugI4HNhFUi/wFZqbHxER3wMW0txxbiXwEvCxdmM60ZpZ/TWKS7QRcUqb8wF8upMxXTowG+DZC28oOwTrVDTyHyXwjNZsgCKXd9kYGdubYR1zojWz+itpppqXE62Z1V4Us5ogGSdaM6u/Am+GpeBEa2b159KBmVlivhlmZpaYZ7RmZon5ZpiZWWK+GWZmllaEa7RmZmm5RmtmlljFSweV3lTmy10vlR2CTUDeVKaGvKnMyPmdYVYGbypTQ/0by45gWJVOtGZmuVS8dOBEa2b155thZmaJeUZrZpaYE62ZWVrhm2FmZom5RmtmlphLB2ZmiXlGa2aWmGe0ZmaJeUZrZpZY3wTe+PvojS9z3dbbjfj3X+56iXM2Ti0wovr5899vuc/m3tOfKSGSiePZC2/wfgd1M5FntKNJssCET7JWDifZGnKN1swssYk8ozUzGxOe0ZqZJeYZrdXNaz95aNkhlOulF0f0s/nnrNmibafRxmL5TORVB2ZmYyKi7AiG5URrZvXnGq2ZWWIVT7SVfguumVkuBb4FV9JsSSskrZQ0b5Dze0q6SdISSUslHdNuTM9ozaz++rd8gnIkJHUB84GjgF5gkaSeiFje0u0c4MqI+K6k/YGFwN7DjetEa2b1V1zp4GBgZUSsApC0AJgDtCbaAHbMPu8EPNpuUCdaM6u/DhKtpLnA3Jam7ojozj5PA1rX6fUChwwY4jzgF5I+A+wAHNnumk60ZlZ/HTywkCXV7rYdh3YK8KOI+LakPwQulfS2iKGDcKI1s9qLRmHraNcCe7R8n561tToNmA0QEXdI2hbYBXhiqEG96sDM6q/RyH8MbxEwU9IMSZOBk4GeAX0eAY4AkPQWYFvgyeEG9YzWttD/wINlh1CqjQ8+PaLfnfbuLdtOuGvrUUYz/p1exCAFrTqIiD5JZwLXA13AxRGxTNL5wOKI6AH+HviBpM/SvDF2asTwj6Y50ZpZ/RX4wEJELKS5ZKu17dyWz8uB93QyphOtWUILv/3eVz6v+Pw9JUYyzlX8yTAnWjOrP28qYzZxTf3IaFYRTQyFbHDoGa2ZWWLFLe9KwonWLKFFrz9oVL/f8x3PFRTJyLzplt+Vev3cClp1kIoTrZnVXlS8dOAHFswG2Hq/Pyg7BOtUI/IfJfCM1myAkT6wYCXyyxnNzBLzzTAzs8T6fDPMzCwtlw7MzBJz6cDMLK2qL+9yojWz+vOM1swsMSdaM7PE/AiumVlaBb4zLIkxS7T/vtvGjn+zujdBIGY2/jjRmpklVvFVB5XeVGbv6c+UHYJNQN5UZrMVh72h7BDy8aYyI7e6d+eyQ7AJyJvKbFab/WhdOjAzSyv6q106cKK1Ldx/SbVnB0OZ26je7OuSyWVHMEF4RmtmlpaXd5mZpeZEa2aWWLVLtE60ZlZ/0VftTOtEa2b1V+08mybRfn2rDQDswOa6ybwnd+x4nE8WFpGZjWe+GWZmltpEnNFuckjsMMoR1hcSh5mNb57RmpmlVvEZbdJNZW7kuVH9fsnkbQqKxDqx++7Plx3CuPHRDU+M6veP3PeagiIZmbpsKhN9+Y8yJJ3R/gmj+0ty4AaXDsrw6KM7lR3CuHHJ5NeN6vd7vmN0k5XRqsumMhV/23i1t0k0M8ul0cHRhqTZklZIWilp3hB9PihpuaRlkn7SbkzXaM2s9oqa0UrqAuYDRwG9wCJJPRGxvKXPTOCLwHsi4llJbf+zxTNaM6u9aOQ/2jgYWBkRqyJiA7AAmDOgz+nA/Ih4FiAi2hbiPaO1LTyg7csOYUQ+27Vv2SEMYl3ZAUwI0a/cfSXNBea2NHVHRHf2eRqwpuVcL3DIgCH2y8a5DegCzouInw93TSdaM6u9TkoHWVLtbttxaFsBM4HDgenArZLeHhFD3rl0ojWz2otG/hltG2uBPVq+T8/aWvUCd0XERuBhSQ/STLyLhhrUNVozq70Ca7SLgJmSZkiaDJwM9Azo8180Z7NI2oVmKWHVcIN6RmtmtRdRzIw2IvoknQlcT7P+enFELJN0PrA4Inqyc++XtBzoB86OiGHf6OlEa2a1V+QDCxGxEFg4oO3cls8BnJUdueQqHUjaT9INku7Pvh8g6Zy8FzEzS6nRr9xHGfLWaH9Ac4HuRoCIWEqzdmFmVrpoKPdRhrylg+0j4m7pVUGWtD2DmdmrlZVA88qbaJ+StC80X5kg6USgHrtNmNm4F9XejjZ3ov00zQW+b5a0FngY+HCyqMzMOjAuZrQRsQo4UtIOwKSI8HOFZlYZRS3vSmXYRCtp0OULm2q1EXFhgpjMzDrSX9JqgrzazWinZv9+E/BuNj8hcSxwd6qgzMw6UesZbUT8I4CkW4FZm0oGks4Drk0enZlZDuOiRgvsBmxo+b4hazMzK914WXXwY+BuSddk348HLkkTkplZZ8bFjDYiLpB0HfC+rOljEbEkXVhmZvn1N6q9EWGuRCtpT+Ap4JrWtoh4JFVgZmZ5jZfSwbVkT4UB2wEzgBXAW1MEZWbWiUadVx1sEhFvb/0uaRbwqSQRmZl1qNbLu4YSEfdKGvjCMjOzUoyL0sGAJ8QmAbOAR5NEZKU7aPLzZYcwbvT1V/smzXgxLkoHbH5CDJrbI14L/LT4cMzMOjcuVh0AyyPiqtYGSR8Arhqiv5nZmKl45SD3Gxa+mLPNzGzMNUK5jzK0273raOAYYJqki1pO7YjfsGBmFVH3VQePAouB44B7WtrXAZ9NFZSZWScKfAluEu1277oPuE/S5RHhGayZVVJQ4xmtpCsj4oPAEklb1Jsj4oBkkZmZ5dRX89LB32b//rPUgZiZjVTVZ7TDrjqIiE1vuv1URPy29cCP4JpZRTQ6OMqQd3nXUYO0HV1kIINZMnmb1Jcws2GsOOwNZYeQS6DcRxna1WjPoDlz3UfS0pZTU4HbUgYGcOCG9akvYWbDeNMtv2vfqQJqveoA+AlwHfBPwLyW9nUR8UyyqMzMOtBf8Rptu+VdzwPPA6cASHodsC0wRdIUb/xtNr5dsd2BZYeQS8XfZJOvRivpWEm/AR4GbgFW05zpmpmVroFyH2XIezPsa8ChwIMRMQM4ArgzWVRmZh2IDo4y5E20GyPiaWCSpEkRcRNwUMK4zMxyq/ryrrzbJD4naQpwK3C5pCeAF9OFZWW6f/2OhY11zFGPFTZWHcWGwf+v3X37tHwDLJ3avk9K26a/xGBrRzvVULWLtHlntHOAl2luJPNz4CHg2FRBmZl1or+Dowy5Em1EvBgR/RHRFxGXRMRFWSnBzKx0DeU/2pE0W9IKSSslzRum319ICklty6jtHlhYx+D1YwEREcX9N6aZ2QgVtZpAUhcwn2ZFoxdYJKknIpYP6DeV5l4wd+UZt91eB1MjYsdBjqlOsmZWFQWuOjgYWBkRqyJiA7CAZul0oK8C3wR+nye+ar/RzMwsh05KB5LmSlrccsxtGWoasKble2/W9gpJs4A9IuLavPHlXXVgZlZZnSzbiohuoHsk15E0CbgQOLWT3znRmlnt9Re3umstsEfL9+lZ2yZTgbcBN6u5pOz1QI+k4yJi8VCDOtGaWe0V+CDCImCmpBk0E+zJwIc2ncz2f9ll03dJNwOfGy7Jgmu0ZjYOFPVkWPZuxDOB64EHgCsjYpmk8yUdN9L4PKM1s9or8pVhEbEQWDig7dwh+h6eZ0wnWrOE1j82+Bzqo/usGbS9LqZ+sFrvZa37xt9mZpVX1qO1eTnRmlntVX3jbydaM6s9lw7MzBJzojUzS6ysNyfk5URrltCpK7cvO4TcLmBy/s5fL+69rLPOGP0YrtGamSXmVQdmZok1Kl48cKI1s9rzzTAzs8SqPZ91ojWzccAzWjOzxPpU7TmtE62Z1V6106wTrZmNAy4dmJkl5uVdZmaJVTvNOtGa2Tjg0oGZWWL9FZ/TOtHaFo7/zn6FjbVh4WOFjWU2FM9ozcwSC89ozczS8ozWbAI7oOs1ZYeQX/9LZUcwYl7eZWaWWLXTrBOtmY0DfRVPtU60ZlZ7vhlmZpaYb4aZmSXmGa2ZWWKe0ZqZJdYfntGamSXldbRmZolVvUY7qewAhrNk8jZlh2BmNdDo4ChDpWe0B25YX3YIZlYDVS8dVHpGa2aWR3TwTzuSZktaIWmlpHmDnD9L0nJJSyXdIGmvdmM60ZpZ7fVH5D6GI6kLmA8cDewPnCJp/wHdlgAHRcQBwNXAP7eLz4nWzGqvQeQ+2jgYWBkRqyJiA7AAmNPaISJuiohNW53dCUxvN2ila7QHzdu57BAqanT/u0z/8o2vfF674NNbdnjh+VGNbzbWOrnJJWkuMLelqTsiurPP04A1Led6gUOGGe404Lp216x0ojUzy6OT5V1ZUu1u27ENSR8GDgIOa9fXidbMaq/AVQdrgT1avk/P2l5F0pHAl4DDIqLt8ignWjOrvSjuEdxFwExJM2gm2JOBD7V2kHQg8H1gdkQ8kWdQJ1ozq72iXjceEX2SzgSuB7qAiyNimaTzgcUR0QN8C5gCXCUJ4JGIOG64cZ1ozaz2inxgISIWAgsHtJ3b8vnITsd0ojWz2iuwdJCEE62Z1V7VH8F1ojWz2qv67l1OtGZWe97428wsMZcOzCawnpceKjuE3DZsv08p151VwBhOtGZmiXnVgU1oT9/bVXYIltMFZ07p+DePX/rbBJF0zjNaM7PEvOrAzCyx/ijrbWD5ONGaWe25RmtmtXDSRY9t0fY363d45fM6DVZv33XU150x6hFcozUzS841WjOzxBouHZiZpeUZrZlZYl51YDaBrV73eNkh5PbGbV837Pmz+36d5LonFDCGSwdmZom5dGBmlphntGZmiXlGazaBfWPX95Vy3cv6HsnVb9bk3V75/Gjj5VThJNcf/WWHMCwnWjOrPT+Ca2aWmB/BNTNLzDNaM7PEvOrAzCyxqq86mFR2AMP5wYUvlh2CmdVAfzRyH2Wo9Iz29LN2aN/JzCY812jNzBJzjdbMLDHPaM3MEvM6WjOzxDyjNTNLzBt/m5kl5pthZmaJVb10UOkHFszM8ogO/mlH0mxJKyStlDRvkPPbSPrP7PxdkvZuN6YTrZnVXkTkPoYjqQuYDxwN7A+cImn/Ad1OA56NiDcC3wG+2S4+J1ozq71GRO6jjYOBlRGxKiI2AAuAOQP6zAEuyT5fDRwhScMNqqrXNszMiiRpLjC3pak7IrqzcycCsyPi49n3jwCHRMSZLb+/P+vTm31/KOvz1FDX9M0wM5tQsqTaPZbXdOnAzGyztcAeLd+nZ22D9pG0FbAT8PRwgzrRmplttgiYKWmGpMnAyUDPgD49wEezzycCN0abGqxLB2ZmmYjok3QmcD3QBVwcEcsknQ8sjoge4IfApZJWAs/QTMbD8s0wexVJL0TElILHPA7YPyK+Iel44MGIWN7hGDcDn4uIxUXGZjYWXDqw5CKiJyK+kX09nub6RLMJw4nWBqWmb0m6X9L/Sjopaz9c0s2Srpb0a0mXb1pDKOmYrO0eSRdJ+lnWfqqkf5P0R8BxwLck/UrSvtlYB2X9dpG0Ovu8naQFkh6QdA2wXUts75d0h6R7JV0lqdAZuFnRXKO1oZwAvBN4B7ALsEjSrdm5A4G3Ao8CtwHvkbQY+D7wxxHxsKQrBg4YEbdL6gF+FhFXAwyzzvsM4KWIeIukA4B7s/67AOcAR0bEi5K+AJwFnF/EH9osBSdaG8p7gSsioh94XNItwLuB/wPublms/Stgb+AFYFVEPJz9/gpevSi8U38MXAQQEUslLc3aD6VZergtS9KTgTtGcR2z5JxobSTWt3zuZ3R/j/rYXMLaNkd/Ab+MiFNGcU2zMeUarQ3lf4CTJHVJ2pXmDPPuYfqvAPZp2cnopCH6rQOmtnxfDbwr+3xiS/utwIcAJL0NOCBrv5NmqeKN2bkdJO2X489jVhonWhvKNcBS4D7gRuDzEfHYUJ0j4mXgU8DPJd1DM6E+P0jXBcDZkpZI2hf4F+AMSUto1oI3+S4wRdIDNOuv92TXeRI4FbgiKyfcAbx5NH9Qs9S8jtYKI2lKRLyQrUKYD/wmIr5TdlxmZfOM1op0enZzbBnN57+/X3I8ZpXgGa2ZWWKe0ZqZJeZEa2aWmBOtmVliTrRmZok50ZqZJfb/EhG7aaQ9HmwAAAAASUVORK5CYII=\n",
                "text/plain": "<Figure size 432x288 with 2 Axes>"
              },
              {
                "output_type": "display_data",
                "metadata": {
                  "tags": [],
                  "needs_background": "light"
                },
                "image/png": "iVBORw0KGgoAAAANSUhEUgAAAVoAAAEFCAYAAACiiS9UAAAABHNCSVQICAgIfAhkiAAAAAlwSFlzAAALEgAACxIB0t1+/AAAADh0RVh0U29mdHdhcmUAbWF0cGxvdGxpYiB2ZXJzaW9uMy4yLjIsIGh0dHA6Ly9tYXRwbG90bGliLm9yZy+WH4yJAAAU4ElEQVR4nO3dfbRkVXnn8e+vG7AZARMEIqFRkTRRVEYJghkTZVbQtCYCGqLgMDMkSM9gyMroaMTxNZiswdHEhBXG2EZHowbGl2FWj7QSQ4JkCAiNRAaaIC0YacAoIArKW9/7zB9VDcWl762qvrVvVXV/P6yzus4+u/Z5atH9rL2es885qSokSe0sG3cAkrSjM9FKUmMmWklqzEQrSY2ZaCWpMROtJDVmopWkxky06ivJfT3bbJL7e/b/TcPzfirJHUl+mOQbSV7f6lxSS/GGBQ0jybeA11fVX2/j2C5VtWWE53o2sKmqHkzyTOAS4Feq6upRnUNaCs5otd2SHJ1kc5K3JvkO8D+SLEtyZpJvJrkryWeS7N3znRcm+fsk9yT5epKj5xu/qq6vqge37na3g5v+KKkBE60W6ynA3sDTgDXAbwPHAy8Bfhr4PnAuQJIDgAuB3+9+583A55PsO9/gSf57kh8D/wjcAaxv9kukRky0WqxZ4N1V9WBV3Q/8R+DtVbW5Oxt9D3BCkl2Ak4H1VbW+qmar6svABuAV8w1eVW8A9gR+EfhfwIPz9ZUmlYlWi/W9qnqgZ/9pwAXd0sA9wA3ADPBT3WO/vvVY9/gvAPsvdIKqmqmq/wusBE5v8iukhnYZdwCaenOvpt4K/GZVXTa3Y5JbgU9W1Wnbea5dsEarKeSMVqP2Z8AfJHkaQJJ9kxzXPfYp4JVJfjnJ8iQruhfUVs4dJMl+SU5Mske37y8DJwEXL9kvkUbERKtR+xNgHfBXSe4FrgCOAqiqW4HjgP8CfI/O7PctbPvvYdEpE2ymc0HtA8B/qqp1rX+ANGquo5WkxpzRSlJjJlpJ6pHkY0m+m+S6eY4nyTlJNiW5Nsnh/cY00UrSY30cWL3A8ZcDq7rbGuBD/QY00UpSj6q6FLh7gS7HAX9RHVcAP5FkwbXgTdbRPmu/Ixd1he3/7POTANxx954jiWcarF+x27hDeMRbf/6OcYcw8Z5wyq89rm2Xn3v0Brc7Vm/vUuHh7P3iJw7cd9PnBx9300Odf3vvnLnpkbZrN54/+ABD2HWfZ2SxYzx8580D55zd9j34P9CZiW61tqrWDnG6A+ismNlqc7dt3n843rAgaafSTarDJNZFM9FKmn6zM0t5ttuAA3v2V3bb5mWNVtL0m9ky+LZ464B/11198ELgB1W1YL3NGa2kqVc1O7KxkpwHHA3sk2Qz8G5g18556s/oPKrzFcAm4MfAb/Qb00QrafrNji7RVtVJfY4X8FvDjGmilTT9RjijbcFEK2n6Le3FsKGZaCVNP2e0ktRWjWY1QTMmWknTb4QXw1ow0UqafpYOJKkxL4ZJUmPOaCWpMS+GSVJjXgyTpLaqrNFKUlvWaCWpsQkvHUz082j33/vecYcgaRrU7ODbGEz0jHZnemeYpEWYeXjcESxoohOtJA1kwksHJlpJ08+LYZLUmDNaSWrMRCtJbZUXwySpMWu0ktSYpQNJaswZrSQ15oxWkhpzRitJjW3xwd/bbf+972XP/R4cdxhL4pBxB/AYGXcAmhDvXb6Kd87cNO4w+nNGu/12liQrTaqpSLJgjVaSmnNGK0mNOaOVpMac0UpSY646kKTGqsYdwYJMtJKmnzVaSWrMRCvtHN54xNt69vZZknOezf1Lcp6JN8KLYUlWA38CLAf+vKrOnnP8qcAngJ/o9jmzqtYvNKaJVtL0m5kZyTBJlgPnAi8FNgNXJVlXVRt7ur0D+ExVfSjJocB64OkLjWuilTT9Rlc6OBLYVFU3AyQ5HzgO6E20BezV/fwk4PZ+g5poJU2/IRJtkjXAmp6mtVW1tvv5AODWnmObgaPmDPEe4K+S/DbwROCYfuc00UqafkPUaLtJdW3fjvM7Cfh4Vf1hkp8HPpnkOVXzB2GilUZkZe06hrN6MQygZke2jvY24MCe/ZXdtl6nAqsBquryJCvoXP387nyDLhtVdJI0NrOzg28LuwpYleSgJLsBJwLr5vT5NvBLAEmeBawAvrfQoM5opRF51e53Ldm5Vp78ZADq7iU75WQb0aqDqtqS5AzgIjpLtz5WVdcnOQvYUFXrgP8MfCTJG+lcGDulauFb00y0kqbfCG9Y6K6JXT+n7V09nzcCLxpmTBOtpOnnnWGS1JgPlZGkxpzRSlJjo1ve1cREJ9obbth33CHslJ63/53jDkEazohWHbQy0YlWkgZRlg4kqTFLB5LUmC9nlKTGnNFKUmNbvBgmSW1ZOpCkxiwdSFJbLu+SpNac0UpSYyZaSWrMW3Alqa0RvjOsiSaJ9ivP3X2RIzzQ+eOuvRbuJklg6UCSmpvwVQcT/RbcQ58z79t7JS2B9y5fNe4QBjNbg29jMNEz2o3X7TfuEKSd2jtnbhp3CIOxdCBJbdXMZJcOTLSSpp8zWklqa6dc3vWH3/zpx7X95op7WpxKDXz5ksf//9Mcl1z+uKbDnjSGONSxMyZaSVpSk12iNdFKmn61ZbIzrYlW0vSb7DzbJtH+ygNbHtf2zw/s0eJUkrRzXgyTpCW1M85oP/KE0Tyy7NQHlo9kHEk7Nme0ktTahM9oJ/qhMh9dMdkP891R7Tv70LhD0ICyd9tHiU7LQ2Vqy+DbOEz0jNbSwXh8b9lu4w5BA6q7f9h0/Gl5qMyEv218sme0kjSQ2SG2PpKsTnJjkk1Jzpynz2uSbExyfZK/7DfmRM9oJWkQo5rRJlkOnAu8FNgMXJVkXVVt7OmzCngb8KKq+n6Svs9zdUYraerV7OBbH0cCm6rq5qp6CDgfOG5On9OAc6vq+wBV1fcNBSZaSVOvZjLwlmRNkg0925qeoQ4Abu3Z39xt63UIcEiSy5JckWR1v/gsHUiaesOUDqpqLbB2EafbBVgFHA2sBC5N8tyqmvcRhSZaaYot23+fRz6v+dPRPYr0+JGNtDRqNqMa6jbgwJ79ld22XpuBr1bVw8AtSb5BJ/FeNd+glg4kTb0R1mivAlYlOSjJbsCJwLo5ff43ndksSfahU0q4eaFBndFKmnpVo5nRVtWWJGcAFwHLgY9V1fVJzgI2VNW67rGXJdkIzABvqaq7FhrXRCtp6o3yhoWqWg+sn9P2rp7PBbypuw1koNJBkkOSXJzkuu7+YUneMehJJKml2ZkMvI3DoDXaj9BZoPswQFVdS6d2IUljV7MZeBuHQUsH/6KqrkweE+SYHs8gSY81rgQ6qEET7Z1JDgYKIMkJwB3NopKkIdRkP4524ET7W3QW+D4zyW3ALcDJzaKSpCHsEDPaqroZOCbJE4FlVXVv27AkaXCjWt7VyoKJNsk2ly9srdVW1R81iEmShjIzptUEg+o3o92z++fPAi/g0TskXglc2SooSRrGVM9oq+r3AJJcChy+tWSQ5D3Ahc2jk6QB7BA1WuCngN4XST3UbZOksdtRVh38BXBlkgu6+8cDn2gTkiQNZ4eY0VbVHyT5IvCL3abfqKpr2oUlSYObmZ3sBxEOlGiTPBW4E7igt62qvt0qMEka1I5SOriQ7l1hwO7AQcCNwLNbBCVJw5id5lUHW1XVc3v3kxwOvKFJRJI0pKle3jWfqvpakqNGHYwkbY8donQw5w6xZcDhwO1NItLYHXXAd8YdwlS6/77dxh3CTmuHKB3w6B1i0Hk84oXA50cfjiQNb4dYdQBsrKrP9jYk+XXgs/P0l7QUdt31kY9r37jvyIZd/777RjbWUpjwysHAb1h424BtkrTkZisDb+PQ7+ldLwdeARyQ5JyeQ3vhGxYkTYhpX3VwO7ABOBa4uqf9XuCNrYKSpGGM8CW4TfR7etfXga8n+XRVOYOVNJGKKZ7RJvlMVb0GuCbJ4+rNVXVYs8gkaUBbprx08DvdP3+1dSCShvc7f3z3gsc/8JKFj8/vKdv5vfGY9BntgqsOqmrrm27fUFX/1LvhLbiSJsTsENs4DLq866XbaHv5KAPZlo+umGl9CkkLeO/yVeMOYSBFBt7GoV+N9nQ6M9dnJLm259CewGUtAwM49YHlrU8haQHvnLlp3CEMZKpXHQB/CXwR+K/AmT3t91bV9hZ/JGmkZia8RttvedcPgB8AJwEk2Q9YAeyRZA8f/C1pEkz4m2wGq9EmeWWSm4BbgK8A36Iz05WksZslA2/jMOhDZX4feCHw11X1/CT/Gji5XViSBvGq+xe+jnH2V7bvZdWndx+VeVHPg/vuWH3ado3Vz1M3XLzoMXaUh8o8XFV3AcuSLKuqvwWOaBiXJA1s0pd3DTqjvSfJHsClwKeTfBf4UbuwJGlws5nsIu2gM9rjgPvpPEjmS8A3gVe2CkqShjEzxDYOAyXaqvpRVc1U1Zaq+kRVndMtJUjS2M1m8K2fJKuT3JhkU5IzF+j3a0kqSd8yar8bFu5l23XmAFVVe/WNWpIaG9VqgiTLgXPp3A27Gbgqybqq2jin3550ngXz1UHG7fesgz2raq9tbHuaZCVNihpi6+NIYFNV3VxVDwHn0ymdzvVe4H3AA4PEN9lvNJOkAQxTOkiyJsmGnm1Nz1AHALf27G/utj0iyeHAgVV14aDxDbrqQJIm1jDLtqpqLbB2e86TZBnwR8Apw3zPRCtp6s2MbnXXbcCBPfsru21b7Qk8B7gknSVlTwHWJTm2qjbMN6iJVtLUG+GNCFcBq5IcRCfBngi8buvB7vNf9tm6n+QS4M0LJVmwRitpBzCqO8O670Y8A7gIuAH4TFVdn+SsJMdub3zOaCVNvVG+Mqyq1gPr57S9a56+Rw8ypolW0tSb9gd/S9LEm/SXXplo9Th/d/v+IxvrVW/dY2RjTbozPnjn0p3szzvr5E/wnzAw+Q/+9v+SpKln6UCSGjPRSlJjk/6GBROtmvrRF24YdwhLaN9xB7DTskYrSY256kCSGpud8OKBiVbS1PNimCQ1NtnzWROtpB2AM1pJamxLJntOa6KVNPUmO82aaCXtACwdSFJjLu+SpMYmO82aaCXtACwdSFJjMxM+pzXR6nFe/ceHjGys+z5y68jGkubjjFaSGitntJLUljNaSWNzwMyycYewJFzeJUmNTXaaNdFK2gFsmfBUa6KVNPW8GCZJjXkxTJIac0YrSY05o5WkxmbKGa0kNeU6WklqbNJrtBN928hHV8yMOwRJU2B2iG0cJnpGe+oDy8cdgqQpMOmlg4me0UrSIGqI//pJsjrJjUk2JTlzG8fflGRjkmuTXJzkaf3GNNFKmnozVQNvC0myHDgXeDlwKHBSkkPndLsGOKKqDgM+B/y3fvGZaCVNvVlq4K2PI4FNVXVzVT0EnA8c19uhqv62qn7c3b0CWNlv0Imu0b7snsvHHcJO6Qc8d9whSEMZ5iJXkjXAmp6mtVW1tvv5AKD3tSCbgaMWGO5U4Iv9zjnRiVaSBjHM8q5uUl3bt2MfSU4GjgBe0q/vRCfa5z354HGHIGkKjHDVwW3AgT37K7ttj5HkGODtwEuq6sF+g050opWkQdTobsG9CliV5CA6CfZE4HW9HZI8H/gwsLqqvjvIoCZaSVNvVK8br6otSc4ALgKWAx+rquuTnAVsqKp1wPuBPYDPJgH4dlUdu9C4JlpJU2+UNyxU1Xpg/Zy2d/V8PmbYMU20kqbeCEsHTZhoJU29Sb8F10QraepN+tO7TLTSFHt7bl24w8PbN+6xrNi+L46JD/6WpMYsHUhSYyZaSWrMVQeS1JgzWklqzFUHkqbO/l/6yLhDGMpMjettYIMx0UqaetZoJU2djz/vXf07jchpmz+16DGs0UpSY9ZoJamxWUsHktSWM1pJasxVB5KmzomvvmfcIQzF0oEkNWbpQFIz13//n5qM+5oL9gLgowc+8Ejb06++qcm5Hjpn8WM4o5WkxpzRSmrmVU85YlHff0Htsc32i+uuRY271GZqZtwhLMhEK2nqeQuuJDXmLbiS1JgzWklqzFUHktSYqw4W4Wd3fTI3PjxdVz+183r33kt/N9Xv3rXtVQM7G2/BXQSTrKRBWKOVpMas0UpSY85oJakx19FKUmPOaCWpMVcdSFJjXgyTpMYmvXSwbNwBSNJi1RD/9ZNkdZIbk2xKcuY2jj8hyf/sHv9qkqf3G9NEK2nqVdXA20KSLAfOBV4OHAqclOTQOd1OBb5fVT8DfBB4X7/4TLSSpt5s1cBbH0cCm6rq5qp6CDgfOG5On+OAT3Q/fw74pSRZaNBMem1DkkYpyRpgTU/T2qpa2z12ArC6ql7f3f+3wFFVdUbP96/r9tnc3f9mt8+d853Ti2GSdirdpLp2Kc9p6UCSHnUbcGDP/spu2zb7JNkFeBKw4BOwTLSS9KirgFVJDkqyG3AisG5On3XAv+9+PgH4m+pTg7V0IEldVbUlyRnARcBy4GNVdX2Ss4ANVbUO+CjwySSbgLvpJOMFeTFMj5Hkvqp53kG9/WMeCxxaVWcnOR74RlVtHHKMS4A3V9WGUcYmLQVLB2quqtZV1dnd3ePprE+UdhomWm1TOt6f5Lok/y/Ja7vtRye5JMnnkvxjkk9vXUOY5BXdtquTnJPkC932U5L8aZJ/BRwLvD/JPyQ5uDvWEd1++yT5Vvfz7knOT3JDkguA3Xtie1mSy5N8Lclnk/g+F000a7Saz6uB5wH/EtgHuCrJpd1jzweeDdwOXAa8KMkG4MPAi6vqliTnzR2wqv4+yTrgC1X1OYAF1nmfDvy4qp6V5DDga93++wDvAI6pqh8leSvwJuCsUfxoqQUTrebzC8B5VTUD/HOSrwAvAH4IXNmzWPsfgKcD9wE3V9Ut3e+fx2MXhQ/rxcA5AFV1bZJru+0vpFN6uKybpHcDLl/EeaTmTLTaHg/2fJ5hcX+PtvBoCWvFAP0DfLmqTlrEOaUlZY1W8/k74LVJlifZl84M88oF+t8IPKPnSUavnaffvcCePfvfAn6u+/mEnvZLgdcBJHkOcFi3/Qo6pYqf6R57YpJDBvg90tiYaDWfC4Brga8DfwP8blV9Z77OVXU/8AbgS0muppNQf7CNrucDb0lyTZKDgQ8Apye5hk4teKsPAXskuYFO/fXq7nm+B5wCnNctJ1wOPHMxP1RqzXW0Gpkke1TVfd1VCOcCN1XVB8cdlzRuzmg1Sqd1L45dT+f+7w+POR5pIjijlaTGnNFKUmMmWklqzEQrSY2ZaCWpMROtJDX2/wGLM1R9jQjGqQAAAABJRU5ErkJggg==\n",
                "text/plain": "<Figure size 432x288 with 2 Axes>"
              },
              {
                "output_type": "display_data",
                "metadata": {
                  "tags": [],
                  "needs_background": "light"
                },
                "image/png": "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\n",
                "text/plain": "<Figure size 432x288 with 2 Axes>"
              },
              {
                "output_type": "display_data",
                "metadata": {
                  "tags": [],
                  "needs_background": "light"
                },
                "image/png": "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\n",
                "text/plain": "<Figure size 432x288 with 2 Axes>"
              },
              {
                "output_type": "display_data",
                "metadata": {
                  "tags": [],
                  "needs_background": "light"
                },
                "image/png": "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\n",
                "text/plain": "<Figure size 432x288 with 2 Axes>"
              }
            ],
            "_view_module": "@jupyter-widgets/output",
            "_model_module_version": "1.0.0",
            "_view_count": null,
            "_view_module_version": "1.0.0",
            "layout": "IPY_MODEL_3c402b27392343669de2093b603a6c18",
            "_model_module": "@jupyter-widgets/output"
          }
        },
        "b3ebbdc816dd4aaaa45fe3fc22f315ea": {
          "model_module": "@jupyter-widgets/controls",
          "model_name": "SliderStyleModel",
          "state": {
            "_view_name": "StyleView",
            "handle_color": null,
            "_model_name": "SliderStyleModel",
            "description_width": "",
            "_view_module": "@jupyter-widgets/base",
            "_model_module_version": "1.5.0",
            "_view_count": null,
            "_view_module_version": "1.2.0",
            "_model_module": "@jupyter-widgets/controls"
          }
        },
        "bf60b30ea1e8401fb4e4ee04826603de": {
          "model_module": "@jupyter-widgets/base",
          "model_name": "LayoutModel",
          "state": {
            "_view_name": "LayoutView",
            "grid_template_rows": null,
            "right": null,
            "justify_content": null,
            "_view_module": "@jupyter-widgets/base",
            "overflow": null,
            "_model_module_version": "1.2.0",
            "_view_count": null,
            "flex_flow": null,
            "width": null,
            "min_width": null,
            "border": null,
            "align_items": null,
            "bottom": null,
            "_model_module": "@jupyter-widgets/base",
            "top": null,
            "grid_column": null,
            "overflow_y": null,
            "overflow_x": null,
            "grid_auto_flow": null,
            "grid_area": null,
            "grid_template_columns": null,
            "flex": null,
            "_model_name": "LayoutModel",
            "justify_items": null,
            "grid_row": null,
            "max_height": null,
            "align_content": null,
            "visibility": null,
            "align_self": null,
            "height": null,
            "min_height": null,
            "padding": null,
            "grid_auto_rows": null,
            "grid_gap": null,
            "max_width": null,
            "order": null,
            "_view_module_version": "1.2.0",
            "grid_template_areas": null,
            "object_position": null,
            "object_fit": null,
            "grid_auto_columns": null,
            "margin": null,
            "display": null,
            "left": null
          }
        },
        "d515631f26f6433f9b67d8ec5e02424d": {
          "model_module": "@jupyter-widgets/controls",
          "model_name": "SliderStyleModel",
          "state": {
            "_view_name": "StyleView",
            "handle_color": null,
            "_model_name": "SliderStyleModel",
            "description_width": "",
            "_view_module": "@jupyter-widgets/base",
            "_model_module_version": "1.5.0",
            "_view_count": null,
            "_view_module_version": "1.2.0",
            "_model_module": "@jupyter-widgets/controls"
          }
        },
        "213388635c7c4f48aebbb1a643fbfe38": {
          "model_module": "@jupyter-widgets/base",
          "model_name": "LayoutModel",
          "state": {
            "_view_name": "LayoutView",
            "grid_template_rows": null,
            "right": null,
            "justify_content": null,
            "_view_module": "@jupyter-widgets/base",
            "overflow": null,
            "_model_module_version": "1.2.0",
            "_view_count": null,
            "flex_flow": null,
            "width": null,
            "min_width": null,
            "border": null,
            "align_items": null,
            "bottom": null,
            "_model_module": "@jupyter-widgets/base",
            "top": null,
            "grid_column": null,
            "overflow_y": null,
            "overflow_x": null,
            "grid_auto_flow": null,
            "grid_area": null,
            "grid_template_columns": null,
            "flex": null,
            "_model_name": "LayoutModel",
            "justify_items": null,
            "grid_row": null,
            "max_height": null,
            "align_content": null,
            "visibility": null,
            "align_self": null,
            "height": null,
            "min_height": null,
            "padding": null,
            "grid_auto_rows": null,
            "grid_gap": null,
            "max_width": null,
            "order": null,
            "_view_module_version": "1.2.0",
            "grid_template_areas": null,
            "object_position": null,
            "object_fit": null,
            "grid_auto_columns": null,
            "margin": null,
            "display": null,
            "left": null
          }
        },
        "3c402b27392343669de2093b603a6c18": {
          "model_module": "@jupyter-widgets/base",
          "model_name": "LayoutModel",
          "state": {
            "_view_name": "LayoutView",
            "grid_template_rows": null,
            "right": null,
            "justify_content": null,
            "_view_module": "@jupyter-widgets/base",
            "overflow": null,
            "_model_module_version": "1.2.0",
            "_view_count": null,
            "flex_flow": null,
            "width": null,
            "min_width": null,
            "border": null,
            "align_items": null,
            "bottom": null,
            "_model_module": "@jupyter-widgets/base",
            "top": null,
            "grid_column": null,
            "overflow_y": null,
            "overflow_x": null,
            "grid_auto_flow": null,
            "grid_area": null,
            "grid_template_columns": null,
            "flex": null,
            "_model_name": "LayoutModel",
            "justify_items": null,
            "grid_row": null,
            "max_height": null,
            "align_content": null,
            "visibility": null,
            "align_self": null,
            "height": null,
            "min_height": null,
            "padding": null,
            "grid_auto_rows": null,
            "grid_gap": null,
            "max_width": null,
            "order": null,
            "_view_module_version": "1.2.0",
            "grid_template_areas": null,
            "object_position": null,
            "object_fit": null,
            "grid_auto_columns": null,
            "margin": null,
            "display": null,
            "left": null
          }
        }
      }
    }
  },
  "cells": [
    {
      "cell_type": "markdown",
      "metadata": {
        "id": "view-in-github",
        "colab_type": "text"
      },
      "source": [
        "<a href=\"https://colab.research.google.com/github/ivan-mihailov/LS-Unit-2-Sprint-2-Lectures/blob/main/IIM_Filled_In_Lecture_LS_DSPT11_222_03_2021.ipynb\" target=\"_parent\"><img src=\"https://colab.research.google.com/assets/colab-badge.svg\" alt=\"Open In Colab\"/></a>"
      ]
    },
    {
      "cell_type": "markdown",
      "metadata": {
        "id": "UEHyIgGaaSEJ"
      },
      "source": [
        "Lambda School Data Science\n",
        "\n",
        "*Unit 2, Sprint 2, Module 2*\n",
        "\n",
        "---"
      ]
    },
    {
      "cell_type": "markdown",
      "metadata": {
        "id": "mRfPLX4WgLVJ"
      },
      "source": [
        "# Random Forests"
      ]
    },
    {
      "cell_type": "markdown",
      "metadata": {
        "id": "jRRNhkxcgLVK"
      },
      "source": [
        "- use scikit-learn for **random forests**\n",
        "- do **ordinal encoding** with high-cardinality categoricals\n",
        "- understand how categorical encodings affect trees differently compared to linear models\n",
        "- understand how tree ensembles reduce overfitting compared to a single decision tree with unlimited depth"
      ]
    },
    {
      "cell_type": "markdown",
      "metadata": {
        "id": "-3TH11e1gLVL"
      },
      "source": [
        "Today's lesson has two take-away messages:\n",
        "\n",
        "#### Try Tree Ensembles when you do machine learning with labeled, tabular data\n",
        "- \"Tree Ensembles\" means Random Forest or Gradient Boosting models. \n",
        "- [Tree Ensembles often have the best predictive accuracy](https://arxiv.org/abs/1708.05070) with labeled, tabular data.\n",
        "- Why? Because trees can fit non-linear, non-[monotonic](https://en.wikipedia.org/wiki/Monotonic_function) relationships, and [interactions](https://christophm.github.io/interpretable-ml-book/interaction.html) between features.\n",
        "- A single decision tree, grown to unlimited depth, will [overfit](http://www.r2d3.us/visual-intro-to-machine-learning-part-1/). We solve this problem by ensembling trees, with bagging (Random Forest) or boosting (Gradient Boosting).\n",
        "- Random Forest's advantage: may be less sensitive to hyperparameters. Gradient Boosting's advantage: may get better predictive accuracy.\n",
        "\n",
        "#### One-hot encoding isn’t the only way, and may not be the best way, of categorical encoding for tree ensembles.\n",
        "- For example, tree ensembles can work with arbitrary \"ordinal\" encoding! (Randomly assigning an integer to each category.) Compared to one-hot encoding, the dimensionality will be lower, and the predictive accuracy may be just as good or even better.\n"
      ]
    },
    {
      "cell_type": "markdown",
      "metadata": {
        "id": "r5PbOFEuFfGF"
      },
      "source": [
        "### Setup\n",
        "\n",
        "Run the code cell below. You can work locally (follow the [local setup instructions](https://lambdaschool.github.io/ds/unit2/local/)) or on Colab.\n",
        "\n",
        "Libraries\n",
        "\n",
        "- **category_encoders** \n",
        "- **graphviz**\n",
        "- ipywidgets\n",
        "- matplotlib\n",
        "- numpy\n",
        "- pandas\n",
        "- seaborn\n",
        "- scikit-learn"
      ]
    },
    {
      "cell_type": "code",
      "metadata": {
        "id": "FStAplyRFoEu"
      },
      "source": [
        "%%capture\n",
        "import sys\n",
        "\n",
        "# If you're on Colab:\n",
        "if 'google.colab' in sys.modules:\n",
        "    DATA_PATH = 'https://raw.githubusercontent.com/LambdaSchool/DS-Unit-2-Kaggle-Challenge/master/data/'\n",
        "    !pip install category_encoders==2.*\n",
        "\n",
        "# If you're working locally:\n",
        "else:\n",
        "    DATA_PATH = '../data/'"
      ],
      "execution_count": 1,
      "outputs": []
    },
    {
      "cell_type": "markdown",
      "metadata": {
        "id": "ZL-yK8B7gLVW"
      },
      "source": [
        "# Use scikit-learn for random forests"
      ]
    },
    {
      "cell_type": "markdown",
      "metadata": {
        "id": "5fCML40rSLWc"
      },
      "source": [
        "## Overview\n",
        "\n",
        "Let's fit a Random Forest!\n",
        "\n",
        "![](https://pbs.twimg.com/media/EGSvKA0UUAEzUZi?format=png)\n",
        "\n",
        "[Chris Albon, MachineLearningFlashcards.com](https://twitter.com/chrisalbon/status/1181261589887909889)"
      ]
    },
    {
      "cell_type": "markdown",
      "metadata": {
        "id": "gHFxMCPSgLVM"
      },
      "source": [
        "### Solution example\n",
        "\n",
        "First, read & wrangle the data.\n",
        "\n",
        "> Define a function to wrangle train, validate, and test sets in the same way. Clean outliers and engineer features. (For example, [what other columns have zeros and shouldn't?](https://github.com/Quartz/bad-data-guide#zeros-replace-missing-values) What other columns are duplicates, or nearly duplicates? Can you extract the year from date_recorded? Can you engineer new features, such as the number of years from waterpump construction to waterpump inspection?)"
      ]
    },
    {
      "cell_type": "code",
      "metadata": {
        "id": "YTLm-rDagLVM"
      },
      "source": [
        "import numpy as np\n",
        "import pandas as pd\n",
        "from sklearn.model_selection import train_test_split\n",
        "\n",
        "# Merge train_features.csv & train_labels.csv\n",
        "train = pd.merge(pd.read_csv(DATA_PATH+'waterpumps/train_features.csv'), \n",
        "                 pd.read_csv(DATA_PATH+'waterpumps/train_labels.csv'))\n",
        "\n",
        "# Read test_features.csv & sample_submission.csv\n",
        "test = pd.read_csv(DATA_PATH+'waterpumps/test_features.csv')\n",
        "sample_submission = pd.read_csv(DATA_PATH+'waterpumps/sample_submission.csv')\n",
        "\n",
        "# Split train into train & val\n",
        "train, val = train_test_split(train, train_size=0.80, test_size=0.20, \n",
        "                              stratify=train['status_group'], random_state=42)\n",
        "\n",
        "\n",
        "def wrangle(X):\n",
        "    \"\"\"Wrangle train, validate, and test sets in the same way\"\"\"\n",
        "    \n",
        "    # Prevent SettingWithCopyWarning\n",
        "    X = X.copy()\n",
        "    \n",
        "    # About 3% of the time, latitude has small values near zero,\n",
        "    # outside Tanzania, so we'll treat these values like zero.\n",
        "    X['latitude'] = X['latitude'].replace(-2e-08, 0)\n",
        "    \n",
        "    # When columns have zeros and shouldn't, they are like null values.\n",
        "    # So we will replace the zeros with nulls, and impute missing values later.\n",
        "    # Also create a \"missing indicator\" column, because the fact that\n",
        "    # values are missing may be a predictive signal.\n",
        "    cols_with_zeros = ['longitude', 'latitude', 'construction_year', \n",
        "                       'gps_height', 'population']\n",
        "    for col in cols_with_zeros:\n",
        "        X[col] = X[col].replace(0, np.nan)\n",
        "        X[col+'_MISSING'] = X[col].isnull()\n",
        "            \n",
        "    # Drop duplicate columns\n",
        "    duplicates = ['quantity_group', 'payment_type']\n",
        "    X = X.drop(columns=duplicates)\n",
        "    \n",
        "    # Drop recorded_by (never varies) and id (always varies, random)\n",
        "    unusable_variance = ['recorded_by', 'id']\n",
        "    X = X.drop(columns=unusable_variance)\n",
        "    \n",
        "    # Convert date_recorded to datetime\n",
        "    X['date_recorded'] = pd.to_datetime(X['date_recorded'], infer_datetime_format=True)\n",
        "    \n",
        "    # Extract components from date_recorded, then drop the original column\n",
        "    X['year_recorded'] = X['date_recorded'].dt.year\n",
        "    X['month_recorded'] = X['date_recorded'].dt.month\n",
        "    X['day_recorded'] = X['date_recorded'].dt.day\n",
        "    X = X.drop(columns='date_recorded')\n",
        "    \n",
        "    # Engineer feature: how many years from construction_year to date_recorded\n",
        "    X['years'] = X['year_recorded'] - X['construction_year']\n",
        "    X['years_MISSING'] = X['years'].isnull()\n",
        "    \n",
        "    # return the wrangled dataframe\n",
        "    return X\n",
        "\n",
        "train = wrangle(train)\n",
        "val = wrangle(val)\n",
        "test = wrangle(test)"
      ],
      "execution_count": 2,
      "outputs": []
    },
    {
      "cell_type": "code",
      "metadata": {
        "id": "m2HppBvZgLVP"
      },
      "source": [
        "# The status_group column is the target\n",
        "target = 'status_group'\n",
        "\n",
        "# Get a dataframe with all train columns except the target\n",
        "train_features = train.drop(columns=[target])\n",
        "\n",
        "# Get a list of the numeric features\n",
        "numeric_features = train_features.select_dtypes(include='number').columns.tolist()\n",
        "\n",
        "# Get a series with the cardinality of the nonnumeric features\n",
        "cardinality = train_features.select_dtypes(exclude='number').nunique()\n",
        "\n",
        "# Get a list of all categorical features with cardinality <= 50\n",
        "categorical_features = cardinality[cardinality <= 50].index.tolist()\n",
        "\n",
        "# Combine the lists \n",
        "features = numeric_features + categorical_features"
      ],
      "execution_count": 4,
      "outputs": []
    },
    {
      "cell_type": "code",
      "metadata": {
        "id": "aXmK2brXgLVR"
      },
      "source": [
        "# Arrange data into X features matrix and y target vector \n",
        "X_train = train[features]\n",
        "y_train = train[target]\n",
        "X_val = val[features]\n",
        "y_val = val[target]\n",
        "X_test = test[features]"
      ],
      "execution_count": 5,
      "outputs": []
    },
    {
      "cell_type": "code",
      "metadata": {
        "colab": {
          "base_uri": "https://localhost:8080/",
          "height": 343
        },
        "id": "0XK_dURkbMkA",
        "outputId": "896bbe7a-6086-43f2-98eb-d517cd95ae59"
      },
      "source": [
        "train.head()"
      ],
      "execution_count": 6,
      "outputs": [
        {
          "output_type": "execute_result",
          "data": {
            "text/html": [
              "<div>\n",
              "<style scoped>\n",
              "    .dataframe tbody tr th:only-of-type {\n",
              "        vertical-align: middle;\n",
              "    }\n",
              "\n",
              "    .dataframe tbody tr th {\n",
              "        vertical-align: top;\n",
              "    }\n",
              "\n",
              "    .dataframe thead th {\n",
              "        text-align: right;\n",
              "    }\n",
              "</style>\n",
              "<table border=\"1\" class=\"dataframe\">\n",
              "  <thead>\n",
              "    <tr style=\"text-align: right;\">\n",
              "      <th></th>\n",
              "      <th>amount_tsh</th>\n",
              "      <th>funder</th>\n",
              "      <th>gps_height</th>\n",
              "      <th>installer</th>\n",
              "      <th>longitude</th>\n",
              "      <th>latitude</th>\n",
              "      <th>wpt_name</th>\n",
              "      <th>num_private</th>\n",
              "      <th>basin</th>\n",
              "      <th>subvillage</th>\n",
              "      <th>region</th>\n",
              "      <th>region_code</th>\n",
              "      <th>district_code</th>\n",
              "      <th>lga</th>\n",
              "      <th>ward</th>\n",
              "      <th>population</th>\n",
              "      <th>public_meeting</th>\n",
              "      <th>scheme_management</th>\n",
              "      <th>scheme_name</th>\n",
              "      <th>permit</th>\n",
              "      <th>construction_year</th>\n",
              "      <th>extraction_type</th>\n",
              "      <th>extraction_type_group</th>\n",
              "      <th>extraction_type_class</th>\n",
              "      <th>management</th>\n",
              "      <th>management_group</th>\n",
              "      <th>payment</th>\n",
              "      <th>water_quality</th>\n",
              "      <th>quality_group</th>\n",
              "      <th>quantity</th>\n",
              "      <th>source</th>\n",
              "      <th>source_type</th>\n",
              "      <th>source_class</th>\n",
              "      <th>waterpoint_type</th>\n",
              "      <th>waterpoint_type_group</th>\n",
              "      <th>status_group</th>\n",
              "      <th>longitude_MISSING</th>\n",
              "      <th>latitude_MISSING</th>\n",
              "      <th>construction_year_MISSING</th>\n",
              "      <th>gps_height_MISSING</th>\n",
              "      <th>population_MISSING</th>\n",
              "      <th>year_recorded</th>\n",
              "      <th>month_recorded</th>\n",
              "      <th>day_recorded</th>\n",
              "      <th>years</th>\n",
              "      <th>years_MISSING</th>\n",
              "    </tr>\n",
              "  </thead>\n",
              "  <tbody>\n",
              "    <tr>\n",
              "      <th>43360</th>\n",
              "      <td>0.0</td>\n",
              "      <td>NaN</td>\n",
              "      <td>NaN</td>\n",
              "      <td>NaN</td>\n",
              "      <td>33.542898</td>\n",
              "      <td>-9.174777</td>\n",
              "      <td>Kwa Mzee Noa</td>\n",
              "      <td>0</td>\n",
              "      <td>Lake Nyasa</td>\n",
              "      <td>Mpandapanda</td>\n",
              "      <td>Mbeya</td>\n",
              "      <td>12</td>\n",
              "      <td>4</td>\n",
              "      <td>Rungwe</td>\n",
              "      <td>Kiwira</td>\n",
              "      <td>NaN</td>\n",
              "      <td>True</td>\n",
              "      <td>VWC</td>\n",
              "      <td>K</td>\n",
              "      <td>NaN</td>\n",
              "      <td>NaN</td>\n",
              "      <td>gravity</td>\n",
              "      <td>gravity</td>\n",
              "      <td>gravity</td>\n",
              "      <td>vwc</td>\n",
              "      <td>user-group</td>\n",
              "      <td>never pay</td>\n",
              "      <td>soft</td>\n",
              "      <td>good</td>\n",
              "      <td>insufficient</td>\n",
              "      <td>spring</td>\n",
              "      <td>spring</td>\n",
              "      <td>groundwater</td>\n",
              "      <td>communal standpipe</td>\n",
              "      <td>communal standpipe</td>\n",
              "      <td>functional</td>\n",
              "      <td>False</td>\n",
              "      <td>False</td>\n",
              "      <td>True</td>\n",
              "      <td>True</td>\n",
              "      <td>True</td>\n",
              "      <td>2011</td>\n",
              "      <td>7</td>\n",
              "      <td>27</td>\n",
              "      <td>NaN</td>\n",
              "      <td>True</td>\n",
              "    </tr>\n",
              "    <tr>\n",
              "      <th>7263</th>\n",
              "      <td>500.0</td>\n",
              "      <td>Rc Church</td>\n",
              "      <td>2049.0</td>\n",
              "      <td>ACRA</td>\n",
              "      <td>34.665760</td>\n",
              "      <td>-9.308548</td>\n",
              "      <td>Kwa Yasinta Ng'Ande</td>\n",
              "      <td>0</td>\n",
              "      <td>Rufiji</td>\n",
              "      <td>Kitichi</td>\n",
              "      <td>Iringa</td>\n",
              "      <td>11</td>\n",
              "      <td>4</td>\n",
              "      <td>Njombe</td>\n",
              "      <td>Imalinyi</td>\n",
              "      <td>175.0</td>\n",
              "      <td>True</td>\n",
              "      <td>WUA</td>\n",
              "      <td>Tove Mtwango gravity Scheme</td>\n",
              "      <td>True</td>\n",
              "      <td>2008.0</td>\n",
              "      <td>gravity</td>\n",
              "      <td>gravity</td>\n",
              "      <td>gravity</td>\n",
              "      <td>wua</td>\n",
              "      <td>user-group</td>\n",
              "      <td>pay monthly</td>\n",
              "      <td>soft</td>\n",
              "      <td>good</td>\n",
              "      <td>enough</td>\n",
              "      <td>spring</td>\n",
              "      <td>spring</td>\n",
              "      <td>groundwater</td>\n",
              "      <td>communal standpipe</td>\n",
              "      <td>communal standpipe</td>\n",
              "      <td>functional</td>\n",
              "      <td>False</td>\n",
              "      <td>False</td>\n",
              "      <td>False</td>\n",
              "      <td>False</td>\n",
              "      <td>False</td>\n",
              "      <td>2011</td>\n",
              "      <td>3</td>\n",
              "      <td>23</td>\n",
              "      <td>3.0</td>\n",
              "      <td>False</td>\n",
              "    </tr>\n",
              "    <tr>\n",
              "      <th>2486</th>\n",
              "      <td>25.0</td>\n",
              "      <td>Donor</td>\n",
              "      <td>290.0</td>\n",
              "      <td>Do</td>\n",
              "      <td>38.238568</td>\n",
              "      <td>-6.179919</td>\n",
              "      <td>Kwasungwini</td>\n",
              "      <td>0</td>\n",
              "      <td>Wami / Ruvu</td>\n",
              "      <td>Kwedigongo</td>\n",
              "      <td>Pwani</td>\n",
              "      <td>6</td>\n",
              "      <td>1</td>\n",
              "      <td>Bagamoyo</td>\n",
              "      <td>Mbwewe</td>\n",
              "      <td>2300.0</td>\n",
              "      <td>True</td>\n",
              "      <td>VWC</td>\n",
              "      <td>NaN</td>\n",
              "      <td>False</td>\n",
              "      <td>2010.0</td>\n",
              "      <td>india mark ii</td>\n",
              "      <td>india mark ii</td>\n",
              "      <td>handpump</td>\n",
              "      <td>vwc</td>\n",
              "      <td>user-group</td>\n",
              "      <td>pay per bucket</td>\n",
              "      <td>salty</td>\n",
              "      <td>salty</td>\n",
              "      <td>insufficient</td>\n",
              "      <td>shallow well</td>\n",
              "      <td>shallow well</td>\n",
              "      <td>groundwater</td>\n",
              "      <td>hand pump</td>\n",
              "      <td>hand pump</td>\n",
              "      <td>functional</td>\n",
              "      <td>False</td>\n",
              "      <td>False</td>\n",
              "      <td>False</td>\n",
              "      <td>False</td>\n",
              "      <td>False</td>\n",
              "      <td>2011</td>\n",
              "      <td>3</td>\n",
              "      <td>7</td>\n",
              "      <td>1.0</td>\n",
              "      <td>False</td>\n",
              "    </tr>\n",
              "    <tr>\n",
              "      <th>313</th>\n",
              "      <td>0.0</td>\n",
              "      <td>Government Of Tanzania</td>\n",
              "      <td>NaN</td>\n",
              "      <td>DWE</td>\n",
              "      <td>30.716727</td>\n",
              "      <td>-1.289055</td>\n",
              "      <td>Kwajovin 2</td>\n",
              "      <td>0</td>\n",
              "      <td>Lake Victoria</td>\n",
              "      <td>Kihanga</td>\n",
              "      <td>Kagera</td>\n",
              "      <td>18</td>\n",
              "      <td>1</td>\n",
              "      <td>Karagwe</td>\n",
              "      <td>Isingiro</td>\n",
              "      <td>NaN</td>\n",
              "      <td>True</td>\n",
              "      <td>NaN</td>\n",
              "      <td>NaN</td>\n",
              "      <td>True</td>\n",
              "      <td>NaN</td>\n",
              "      <td>other</td>\n",
              "      <td>other</td>\n",
              "      <td>other</td>\n",
              "      <td>vwc</td>\n",
              "      <td>user-group</td>\n",
              "      <td>never pay</td>\n",
              "      <td>soft</td>\n",
              "      <td>good</td>\n",
              "      <td>enough</td>\n",
              "      <td>shallow well</td>\n",
              "      <td>shallow well</td>\n",
              "      <td>groundwater</td>\n",
              "      <td>other</td>\n",
              "      <td>other</td>\n",
              "      <td>non functional</td>\n",
              "      <td>False</td>\n",
              "      <td>False</td>\n",
              "      <td>True</td>\n",
              "      <td>True</td>\n",
              "      <td>True</td>\n",
              "      <td>2011</td>\n",
              "      <td>7</td>\n",
              "      <td>31</td>\n",
              "      <td>NaN</td>\n",
              "      <td>True</td>\n",
              "    </tr>\n",
              "    <tr>\n",
              "      <th>52726</th>\n",
              "      <td>0.0</td>\n",
              "      <td>Water</td>\n",
              "      <td>NaN</td>\n",
              "      <td>Gove</td>\n",
              "      <td>35.389331</td>\n",
              "      <td>-6.399942</td>\n",
              "      <td>Chama</td>\n",
              "      <td>0</td>\n",
              "      <td>Internal</td>\n",
              "      <td>Mtakuj</td>\n",
              "      <td>Dodoma</td>\n",
              "      <td>1</td>\n",
              "      <td>6</td>\n",
              "      <td>Bahi</td>\n",
              "      <td>Nondwa</td>\n",
              "      <td>NaN</td>\n",
              "      <td>True</td>\n",
              "      <td>VWC</td>\n",
              "      <td>Zeje</td>\n",
              "      <td>True</td>\n",
              "      <td>NaN</td>\n",
              "      <td>mono</td>\n",
              "      <td>mono</td>\n",
              "      <td>motorpump</td>\n",
              "      <td>vwc</td>\n",
              "      <td>user-group</td>\n",
              "      <td>pay per bucket</td>\n",
              "      <td>soft</td>\n",
              "      <td>good</td>\n",
              "      <td>enough</td>\n",
              "      <td>machine dbh</td>\n",
              "      <td>borehole</td>\n",
              "      <td>groundwater</td>\n",
              "      <td>communal standpipe</td>\n",
              "      <td>communal standpipe</td>\n",
              "      <td>functional</td>\n",
              "      <td>False</td>\n",
              "      <td>False</td>\n",
              "      <td>True</td>\n",
              "      <td>True</td>\n",
              "      <td>True</td>\n",
              "      <td>2011</td>\n",
              "      <td>3</td>\n",
              "      <td>10</td>\n",
              "      <td>NaN</td>\n",
              "      <td>True</td>\n",
              "    </tr>\n",
              "  </tbody>\n",
              "</table>\n",
              "</div>"
            ],
            "text/plain": [
              "       amount_tsh                  funder  ...  years years_MISSING\n",
              "43360         0.0                     NaN  ...    NaN          True\n",
              "7263        500.0               Rc Church  ...    3.0         False\n",
              "2486         25.0                   Donor  ...    1.0         False\n",
              "313           0.0  Government Of Tanzania  ...    NaN          True\n",
              "52726         0.0                   Water  ...    NaN          True\n",
              "\n",
              "[5 rows x 46 columns]"
            ]
          },
          "metadata": {
            "tags": []
          },
          "execution_count": 6
        }
      ]
    },
    {
      "cell_type": "markdown",
      "metadata": {
        "id": "OMkDbJQySLWg"
      },
      "source": [
        "## Follow Along\n",
        "\n",
        "[Scikit-Learn User Guide: Random Forests](https://scikit-learn.org/stable/modules/ensemble.html#random-forests) "
      ]
    },
    {
      "cell_type": "code",
      "metadata": {
        "id": "57yyygsdgLVW",
        "colab": {
          "base_uri": "https://localhost:8080/"
        },
        "outputId": "89f3c487-ad05-4b5d-e5a8-ab7b9b571938"
      },
      "source": [
        "# TODO\n",
        "from sklearn.ensemble import RandomForestClassifier\n",
        "import category_encoders as ce\n",
        "from sklearn.impute import SimpleImputer\n",
        "from sklearn.pipeline import make_pipeline\n",
        "\n",
        "pipeline = make_pipeline(\n",
        "    ce.OneHotEncoder(use_cat_names = True),\n",
        "    SimpleImputer(strategy = 'median'),\n",
        "    RandomForestClassifier(random_state = 42, n_jobs = -1)\n",
        ")\n",
        "\n",
        "pipeline.fit(X_train, y_train)\n",
        "print('Val Acc', pipeline.score(X_val, y_val))"
      ],
      "execution_count": 8,
      "outputs": [
        {
          "output_type": "stream",
          "text": [
            "/usr/local/lib/python3.7/dist-packages/category_encoders/utils.py:21: FutureWarning: is_categorical is deprecated and will be removed in a future version.  Use is_categorical_dtype instead\n",
            "  elif pd.api.types.is_categorical(cols):\n"
          ],
          "name": "stderr"
        },
        {
          "output_type": "stream",
          "text": [
            "Val Acc 0.8082491582491582\n"
          ],
          "name": "stdout"
        }
      ]
    },
    {
      "cell_type": "code",
      "metadata": {
        "colab": {
          "base_uri": "https://localhost:8080/"
        },
        "id": "JKKGyMgNcrFC",
        "outputId": "7fd1b40b-7204-4182-fd83-c69f7d96fae3"
      },
      "source": [
        "# Shape before encoding\n",
        "X_train.shape"
      ],
      "execution_count": 9,
      "outputs": [
        {
          "output_type": "execute_result",
          "data": {
            "text/plain": [
              "(47520, 38)"
            ]
          },
          "metadata": {
            "tags": []
          },
          "execution_count": 9
        }
      ]
    },
    {
      "cell_type": "code",
      "metadata": {
        "colab": {
          "base_uri": "https://localhost:8080/"
        },
        "id": "LKMkKw0kcv1P",
        "outputId": "6b1209f7-9fa7-4422-8121-0be33def342b"
      },
      "source": [
        "# Shape after encoding\n",
        "\n",
        "encoder = pipeline.named_steps['onehotencoder']\n",
        "encoded = encoder.transform(X_train)\n",
        "encoded.shape"
      ],
      "execution_count": 10,
      "outputs": [
        {
          "output_type": "execute_result",
          "data": {
            "text/plain": [
              "(47520, 182)"
            ]
          },
          "metadata": {
            "tags": []
          },
          "execution_count": 10
        }
      ]
    },
    {
      "cell_type": "code",
      "metadata": {
        "colab": {
          "base_uri": "https://localhost:8080/",
          "height": 607
        },
        "id": "k_G-yedadHrw",
        "outputId": "ca70a3c2-ac4d-4b32-cbd5-a98ba724fa11"
      },
      "source": [
        "# Get feature importances\n",
        "\n",
        "rf = pipeline.named_steps['randomforestclassifier']\n",
        "importances = pd.Series(rf.feature_importances_, encoded.columns)\n",
        "\n",
        "# Plot\n",
        "import matplotlib.pyplot as plt\n",
        "n = 20\n",
        "plt.figure(figsize = (10, n/2))\n",
        "plt.title(f'Top {n} Features')\n",
        "importances.sort_values()[-n:].plot.barh();"
      ],
      "execution_count": 16,
      "outputs": [
        {
          "output_type": "display_data",
          "data": {
            "image/png": "[encoded data removed]",
            "text/plain": [
              "<Figure size 720x720 with 1 Axes>"
            ]
          },
          "metadata": {
            "tags": [],
            "needs_background": "light"
          }
        }
      ]
    },
    {
      "cell_type": "markdown",
      "metadata": {
        "id": "yfyk_aa5gLVY"
      },
      "source": [
        "# Do ordinal encoding with high-cardinality categoricals"
      ]
    },
    {
      "cell_type": "markdown",
      "metadata": {
        "id": "XMANcL40SLWi"
      },
      "source": [
        "## Overview\n",
        "\n",
        "https://contrib.scikit-learn.org/category_encoders/ordinal.html"
      ]
    },
    {
      "cell_type": "markdown",
      "metadata": {
        "id": "LhuU211XoAFW"
      },
      "source": [
        "**Ordinal Encoding could skew a Logistical Regression** depending on the numbers assigned to the categories because it combines all categories into a single coefficient. \n",
        "\n",
        "**Decision Trees can handle Ordinal Encoding** regardless of the numbers assigned to categories because it does multiple splits and the root node (top node) always has the category with the highest information gain (regardless of whether the number assigned to that category was 3, 5, 7, etc.)"
      ]
    },
    {
      "cell_type": "markdown",
      "metadata": {
        "id": "DBKoITAqSLWj"
      },
      "source": [
        "## Follow Along"
      ]
    },
    {
      "cell_type": "code",
      "metadata": {
        "id": "b8d_WJtcgLVZ"
      },
      "source": [
        "# TODO\n",
        "\n",
        "X_train = train.drop(columns=target)\n",
        "y_train = train[target]\n",
        "X_val = val.drop(columns=target)\n",
        "y_val = val[target]\n",
        "X_test = test"
      ],
      "execution_count": 23,
      "outputs": []
    },
    {
      "cell_type": "code",
      "metadata": {
        "colab": {
          "base_uri": "https://localhost:8080/"
        },
        "id": "i84da9hUeo81",
        "outputId": "15275d0b-f6c8-4352-dec8-704b9bcad50f"
      },
      "source": [
        "from sklearn.ensemble import RandomForestClassifier\n",
        "import category_encoders as ce\n",
        "from sklearn.impute import SimpleImputer\n",
        "from sklearn.pipeline import make_pipeline\n",
        "\n",
        "pipeline = make_pipeline(\n",
        "    ce.OrdinalEncoder(),\n",
        "    SimpleImputer(strategy = 'median'),\n",
        "    RandomForestClassifier(random_state = 42, n_jobs = -1)\n",
        ")\n",
        "\n",
        "pipeline.fit(X_train, y_train)\n",
        "print('Val Acc', pipeline.score(X_val, y_val))"
      ],
      "execution_count": 24,
      "outputs": [
        {
          "output_type": "stream",
          "text": [
            "Val Acc 0.8135521885521886\n"
          ],
          "name": "stdout"
        }
      ]
    },
    {
      "cell_type": "code",
      "metadata": {
        "colab": {
          "base_uri": "https://localhost:8080/"
        },
        "id": "poBXQK4gfH7l",
        "outputId": "0aa614e4-8df4-4df5-dabf-e6e23f777182"
      },
      "source": [
        "X_train.shape"
      ],
      "execution_count": 25,
      "outputs": [
        {
          "output_type": "execute_result",
          "data": {
            "text/plain": [
              "(47520, 45)"
            ]
          },
          "metadata": {
            "tags": []
          },
          "execution_count": 25
        }
      ]
    },
    {
      "cell_type": "code",
      "metadata": {
        "colab": {
          "base_uri": "https://localhost:8080/"
        },
        "id": "isrV59Y6e_Fp",
        "outputId": "ebe9d46e-b571-412e-acbc-2c91d28bfe65"
      },
      "source": [
        "# Shape after encoding\n",
        "\n",
        "encoder_2 = pipeline.named_steps['ordinalencoder']\n",
        "encoded_2 = encoder_2.transform(X_train)\n",
        "encoded_2.shape"
      ],
      "execution_count": 26,
      "outputs": [
        {
          "output_type": "execute_result",
          "data": {
            "text/plain": [
              "(47520, 45)"
            ]
          },
          "metadata": {
            "tags": []
          },
          "execution_count": 26
        }
      ]
    },
    {
      "cell_type": "markdown",
      "metadata": {
        "id": "xs2UPoVdgLVp"
      },
      "source": [
        "# Understand how categorical encodings affect trees differently compared to linear models"
      ]
    },
    {
      "cell_type": "markdown",
      "metadata": {
        "id": "k7GcvydzSLWl"
      },
      "source": [
        "## Follow Along"
      ]
    },
    {
      "cell_type": "markdown",
      "metadata": {
        "id": "z8V-A92mgLVp"
      },
      "source": [
        "### Categorical exploration, 1 feature at a time\n",
        "\n",
        "Change `feature`, then re-run these cells!"
      ]
    },
    {
      "cell_type": "code",
      "metadata": {
        "id": "G35RAzVdgLVq"
      },
      "source": [
        "feature = 'extraction_type_class'"
      ],
      "execution_count": 27,
      "outputs": []
    },
    {
      "cell_type": "code",
      "metadata": {
        "id": "OuxHWiH8gLVr",
        "colab": {
          "base_uri": "https://localhost:8080/"
        },
        "outputId": "f1ca0dda-2b78-4858-d4ed-fa164fb685a7"
      },
      "source": [
        "X_train[feature].value_counts()"
      ],
      "execution_count": 28,
      "outputs": [
        {
          "output_type": "execute_result",
          "data": {
            "text/plain": [
              "gravity         21448\n",
              "handpump        13184\n",
              "other            5193\n",
              "submersible      4894\n",
              "motorpump        2355\n",
              "rope pump         353\n",
              "wind-powered       93\n",
              "Name: extraction_type_class, dtype: int64"
            ]
          },
          "metadata": {
            "tags": []
          },
          "execution_count": 28
        }
      ]
    },
    {
      "cell_type": "code",
      "metadata": {
        "id": "pVxoC4NngLVt",
        "colab": {
          "base_uri": "https://localhost:8080/",
          "height": 552
        },
        "outputId": "c3375f57-08f2-4115-a24c-df06634002b4"
      },
      "source": [
        "import seaborn as sns\n",
        "plt.figure(figsize=(16,9))\n",
        "sns.barplot(\n",
        "    x=train[feature], \n",
        "    y=train['status_group']=='functional', \n",
        "    color='grey'\n",
        ");"
      ],
      "execution_count": 29,
      "outputs": [
        {
          "output_type": "display_data",
          "data": {
            "image/png": "[encoded data removed]",
            "text/plain": [
              "<Figure size 1152x648 with 1 Axes>"
            ]
          },
          "metadata": {
            "tags": [],
            "needs_background": "light"
          }
        }
      ]
    },
    {
      "cell_type": "code",
      "metadata": {
        "id": "w99mek14gLVv",
        "colab": {
          "base_uri": "https://localhost:8080/"
        },
        "outputId": "c02f0b60-fab4-4c7a-e09c-b804cdb1644e"
      },
      "source": [
        "X_train[feature].head(20)"
      ],
      "execution_count": 30,
      "outputs": [
        {
          "output_type": "execute_result",
          "data": {
            "text/plain": [
              "43360        gravity\n",
              "7263         gravity\n",
              "2486        handpump\n",
              "313            other\n",
              "52726      motorpump\n",
              "8558         gravity\n",
              "2559         gravity\n",
              "54735      motorpump\n",
              "25763       handpump\n",
              "44540    submersible\n",
              "28603          other\n",
              "4372     submersible\n",
              "30666        gravity\n",
              "6431     submersible\n",
              "57420          other\n",
              "1373         gravity\n",
              "2026         gravity\n",
              "58977       handpump\n",
              "41101        gravity\n",
              "10019        gravity\n",
              "Name: extraction_type_class, dtype: object"
            ]
          },
          "metadata": {
            "tags": []
          },
          "execution_count": 30
        }
      ]
    },
    {
      "cell_type": "markdown",
      "metadata": {
        "id": "ezzK2IdbgLVx"
      },
      "source": [
        "### [One Hot Encoding](https://contrib.scikit-learn.org/category_encoders/onehot.html)\n",
        "\n",
        "> Onehot (or dummy) coding for categorical features, produces one feature per category, each binary.\n",
        "\n",
        "Warning: May run slow, or run out of memory, with high cardinality categoricals!"
      ]
    },
    {
      "cell_type": "code",
      "metadata": {
        "id": "HDQZtV6GgLVy",
        "colab": {
          "base_uri": "https://localhost:8080/",
          "height": 737
        },
        "outputId": "6ec888b6-f527-4467-baf9-82819e9c61d5"
      },
      "source": [
        "encoder = ce.OneHotEncoder(use_cat_names=True)\n",
        "encoded = encoder.fit_transform(X_train[[feature]])\n",
        "print(f'{len(encoded.columns)} columns')\n",
        "encoded.head(20)"
      ],
      "execution_count": 31,
      "outputs": [
        {
          "output_type": "stream",
          "text": [
            "7 columns\n"
          ],
          "name": "stdout"
        },
        {
          "output_type": "stream",
          "text": [
            "/usr/local/lib/python3.7/dist-packages/category_encoders/utils.py:21: FutureWarning: is_categorical is deprecated and will be removed in a future version.  Use is_categorical_dtype instead\n",
            "  elif pd.api.types.is_categorical(cols):\n"
          ],
          "name": "stderr"
        },
        {
          "output_type": "execute_result",
          "data": {
            "text/html": [
              "<div>\n",
              "<style scoped>\n",
              "    .dataframe tbody tr th:only-of-type {\n",
              "        vertical-align: middle;\n",
              "    }\n",
              "\n",
              "    .dataframe tbody tr th {\n",
              "        vertical-align: top;\n",
              "    }\n",
              "\n",
              "    .dataframe thead th {\n",
              "        text-align: right;\n",
              "    }\n",
              "</style>\n",
              "<table border=\"1\" class=\"dataframe\">\n",
              "  <thead>\n",
              "    <tr style=\"text-align: right;\">\n",
              "      <th></th>\n",
              "      <th>extraction_type_class_gravity</th>\n",
              "      <th>extraction_type_class_handpump</th>\n",
              "      <th>extraction_type_class_other</th>\n",
              "      <th>extraction_type_class_motorpump</th>\n",
              "      <th>extraction_type_class_submersible</th>\n",
              "      <th>extraction_type_class_rope pump</th>\n",
              "      <th>extraction_type_class_wind-powered</th>\n",
              "    </tr>\n",
              "  </thead>\n",
              "  <tbody>\n",
              "    <tr>\n",
              "      <th>43360</th>\n",
              "      <td>1</td>\n",
              "      <td>0</td>\n",
              "      <td>0</td>\n",
              "      <td>0</td>\n",
              "      <td>0</td>\n",
              "      <td>0</td>\n",
              "      <td>0</td>\n",
              "    </tr>\n",
              "    <tr>\n",
              "      <th>7263</th>\n",
              "      <td>1</td>\n",
              "      <td>0</td>\n",
              "      <td>0</td>\n",
              "      <td>0</td>\n",
              "      <td>0</td>\n",
              "      <td>0</td>\n",
              "      <td>0</td>\n",
              "    </tr>\n",
              "    <tr>\n",
              "      <th>2486</th>\n",
              "      <td>0</td>\n",
              "      <td>1</td>\n",
              "      <td>0</td>\n",
              "      <td>0</td>\n",
              "      <td>0</td>\n",
              "      <td>0</td>\n",
              "      <td>0</td>\n",
              "    </tr>\n",
              "    <tr>\n",
              "      <th>313</th>\n",
              "      <td>0</td>\n",
              "      <td>0</td>\n",
              "      <td>1</td>\n",
              "      <td>0</td>\n",
              "      <td>0</td>\n",
              "      <td>0</td>\n",
              "      <td>0</td>\n",
              "    </tr>\n",
              "    <tr>\n",
              "      <th>52726</th>\n",
              "      <td>0</td>\n",
              "      <td>0</td>\n",
              "      <td>0</td>\n",
              "      <td>1</td>\n",
              "      <td>0</td>\n",
              "      <td>0</td>\n",
              "      <td>0</td>\n",
              "    </tr>\n",
              "    <tr>\n",
              "      <th>8558</th>\n",
              "      <td>1</td>\n",
              "      <td>0</td>\n",
              "      <td>0</td>\n",
              "      <td>0</td>\n",
              "      <td>0</td>\n",
              "      <td>0</td>\n",
              "      <td>0</td>\n",
              "    </tr>\n",
              "    <tr>\n",
              "      <th>2559</th>\n",
              "      <td>1</td>\n",
              "      <td>0</td>\n",
              "      <td>0</td>\n",
              "      <td>0</td>\n",
              "      <td>0</td>\n",
              "      <td>0</td>\n",
              "      <td>0</td>\n",
              "    </tr>\n",
              "    <tr>\n",
              "      <th>54735</th>\n",
              "      <td>0</td>\n",
              "      <td>0</td>\n",
              "      <td>0</td>\n",
              "      <td>1</td>\n",
              "      <td>0</td>\n",
              "      <td>0</td>\n",
              "      <td>0</td>\n",
              "    </tr>\n",
              "    <tr>\n",
              "      <th>25763</th>\n",
              "      <td>0</td>\n",
              "      <td>1</td>\n",
              "      <td>0</td>\n",
              "      <td>0</td>\n",
              "      <td>0</td>\n",
              "      <td>0</td>\n",
              "      <td>0</td>\n",
              "    </tr>\n",
              "    <tr>\n",
              "      <th>44540</th>\n",
              "      <td>0</td>\n",
              "      <td>0</td>\n",
              "      <td>0</td>\n",
              "      <td>0</td>\n",
              "      <td>1</td>\n",
              "      <td>0</td>\n",
              "      <td>0</td>\n",
              "    </tr>\n",
              "    <tr>\n",
              "      <th>28603</th>\n",
              "      <td>0</td>\n",
              "      <td>0</td>\n",
              "      <td>1</td>\n",
              "      <td>0</td>\n",
              "      <td>0</td>\n",
              "      <td>0</td>\n",
              "      <td>0</td>\n",
              "    </tr>\n",
              "    <tr>\n",
              "      <th>4372</th>\n",
              "      <td>0</td>\n",
              "      <td>0</td>\n",
              "      <td>0</td>\n",
              "      <td>0</td>\n",
              "      <td>1</td>\n",
              "      <td>0</td>\n",
              "      <td>0</td>\n",
              "    </tr>\n",
              "    <tr>\n",
              "      <th>30666</th>\n",
              "      <td>1</td>\n",
              "      <td>0</td>\n",
              "      <td>0</td>\n",
              "      <td>0</td>\n",
              "      <td>0</td>\n",
              "      <td>0</td>\n",
              "      <td>0</td>\n",
              "    </tr>\n",
              "    <tr>\n",
              "      <th>6431</th>\n",
              "      <td>0</td>\n",
              "      <td>0</td>\n",
              "      <td>0</td>\n",
              "      <td>0</td>\n",
              "      <td>1</td>\n",
              "      <td>0</td>\n",
              "      <td>0</td>\n",
              "    </tr>\n",
              "    <tr>\n",
              "      <th>57420</th>\n",
              "      <td>0</td>\n",
              "      <td>0</td>\n",
              "      <td>1</td>\n",
              "      <td>0</td>\n",
              "      <td>0</td>\n",
              "      <td>0</td>\n",
              "      <td>0</td>\n",
              "    </tr>\n",
              "    <tr>\n",
              "      <th>1373</th>\n",
              "      <td>1</td>\n",
              "      <td>0</td>\n",
              "      <td>0</td>\n",
              "      <td>0</td>\n",
              "      <td>0</td>\n",
              "      <td>0</td>\n",
              "      <td>0</td>\n",
              "    </tr>\n",
              "    <tr>\n",
              "      <th>2026</th>\n",
              "      <td>1</td>\n",
              "      <td>0</td>\n",
              "      <td>0</td>\n",
              "      <td>0</td>\n",
              "      <td>0</td>\n",
              "      <td>0</td>\n",
              "      <td>0</td>\n",
              "    </tr>\n",
              "    <tr>\n",
              "      <th>58977</th>\n",
              "      <td>0</td>\n",
              "      <td>1</td>\n",
              "      <td>0</td>\n",
              "      <td>0</td>\n",
              "      <td>0</td>\n",
              "      <td>0</td>\n",
              "      <td>0</td>\n",
              "    </tr>\n",
              "    <tr>\n",
              "      <th>41101</th>\n",
              "      <td>1</td>\n",
              "      <td>0</td>\n",
              "      <td>0</td>\n",
              "      <td>0</td>\n",
              "      <td>0</td>\n",
              "      <td>0</td>\n",
              "      <td>0</td>\n",
              "    </tr>\n",
              "    <tr>\n",
              "      <th>10019</th>\n",
              "      <td>1</td>\n",
              "      <td>0</td>\n",
              "      <td>0</td>\n",
              "      <td>0</td>\n",
              "      <td>0</td>\n",
              "      <td>0</td>\n",
              "      <td>0</td>\n",
              "    </tr>\n",
              "  </tbody>\n",
              "</table>\n",
              "</div>"
            ],
            "text/plain": [
              "       extraction_type_class_gravity  ...  extraction_type_class_wind-powered\n",
              "43360                              1  ...                                   0\n",
              "7263                               1  ...                                   0\n",
              "2486                               0  ...                                   0\n",
              "313                                0  ...                                   0\n",
              "52726                              0  ...                                   0\n",
              "8558                               1  ...                                   0\n",
              "2559                               1  ...                                   0\n",
              "54735                              0  ...                                   0\n",
              "25763                              0  ...                                   0\n",
              "44540                              0  ...                                   0\n",
              "28603                              0  ...                                   0\n",
              "4372                               0  ...                                   0\n",
              "30666                              1  ...                                   0\n",
              "6431                               0  ...                                   0\n",
              "57420                              0  ...                                   0\n",
              "1373                               1  ...                                   0\n",
              "2026                               1  ...                                   0\n",
              "58977                              0  ...                                   0\n",
              "41101                              1  ...                                   0\n",
              "10019                              1  ...                                   0\n",
              "\n",
              "[20 rows x 7 columns]"
            ]
          },
          "metadata": {
            "tags": []
          },
          "execution_count": 31
        }
      ]
    },
    {
      "cell_type": "markdown",
      "metadata": {
        "id": "1Ql9Qmw3sNJ7"
      },
      "source": [
        "#### One-Hot Encoding, Logistic Regression, Validation Accuracy"
      ]
    },
    {
      "cell_type": "code",
      "metadata": {
        "id": "mT4A-oDGpOss",
        "colab": {
          "base_uri": "https://localhost:8080/"
        },
        "outputId": "fc2998c7-d416-44ed-9c67-db9d8f26bfbf"
      },
      "source": [
        "from sklearn.linear_model import LogisticRegressionCV\n",
        "from sklearn.preprocessing import StandardScaler\n",
        "\n",
        "lr = make_pipeline(\n",
        "    ce.OneHotEncoder(use_cat_names=True), \n",
        "    SimpleImputer(), \n",
        "    StandardScaler(), \n",
        "    LogisticRegressionCV(multi_class='auto', solver='lbfgs', cv=5, n_jobs=-1)\n",
        ")\n",
        "\n",
        "lr.fit(X_train[[feature]], y_train)\n",
        "score = lr.score(X_val[[feature]], y_val)\n",
        "print('Logistic Regression, Validation Accuracy', score)"
      ],
      "execution_count": 32,
      "outputs": [
        {
          "output_type": "stream",
          "text": [
            "/usr/local/lib/python3.7/dist-packages/category_encoders/utils.py:21: FutureWarning: is_categorical is deprecated and will be removed in a future version.  Use is_categorical_dtype instead\n",
            "  elif pd.api.types.is_categorical(cols):\n"
          ],
          "name": "stderr"
        },
        {
          "output_type": "stream",
          "text": [
            "Logistic Regression, Validation Accuracy 0.6202861952861953\n"
          ],
          "name": "stdout"
        }
      ]
    },
    {
      "cell_type": "markdown",
      "metadata": {
        "id": "EbH6wivpsRuV"
      },
      "source": [
        "#### One-Hot Encoding, Decision Tree, Validation Accuracy"
      ]
    },
    {
      "cell_type": "code",
      "metadata": {
        "id": "b6KUluFOqIdK",
        "colab": {
          "base_uri": "https://localhost:8080/"
        },
        "outputId": "54cc72e0-3542-40b2-c4bc-245afa08499e"
      },
      "source": [
        "from sklearn.tree import DecisionTreeClassifier\n",
        "\n",
        "dt = make_pipeline(\n",
        "    ce.OneHotEncoder(use_cat_names=True), \n",
        "    SimpleImputer(), \n",
        "    DecisionTreeClassifier(random_state=42)\n",
        ")\n",
        "\n",
        "dt.fit(X_train[[feature]], y_train)\n",
        "score = dt.score(X_val[[feature]], y_val)\n",
        "print('Decision Tree, Validation Accuracy', score)"
      ],
      "execution_count": 34,
      "outputs": [
        {
          "output_type": "stream",
          "text": [
            "Decision Tree, Validation Accuracy 0.6202861952861953\n"
          ],
          "name": "stdout"
        },
        {
          "output_type": "stream",
          "text": [
            "/usr/local/lib/python3.7/dist-packages/category_encoders/utils.py:21: FutureWarning: is_categorical is deprecated and will be removed in a future version.  Use is_categorical_dtype instead\n",
            "  elif pd.api.types.is_categorical(cols):\n"
          ],
          "name": "stderr"
        }
      ]
    },
    {
      "cell_type": "markdown",
      "metadata": {
        "id": "8yg11_gTsUu6"
      },
      "source": [
        "#### One-Hot Encoding, Logistic Regression, Model Interpretation"
      ]
    },
    {
      "cell_type": "code",
      "metadata": {
        "id": "IxHwXGRornNI",
        "colab": {
          "base_uri": "https://localhost:8080/",
          "height": 265
        },
        "outputId": "d06b9e4f-12e6-44d2-d7ef-e37bd9618552"
      },
      "source": [
        "model = lr.named_steps['logisticregressioncv']\n",
        "encoder = lr.named_steps['onehotencoder']\n",
        "encoded_columns = encoder.transform(X_val[[feature]]).columns\n",
        "coefficients = pd.Series(model.coef_[0], encoded_columns)\n",
        "coefficients.sort_values().plot.barh(color='grey');"
      ],
      "execution_count": 35,
      "outputs": [
        {
          "output_type": "display_data",
          "data": {
            "image/png": "[encoded data removed]",
            "text/plain": [
              "<Figure size 432x288 with 1 Axes>"
            ]
          },
          "metadata": {
            "tags": [],
            "needs_background": "light"
          }
        }
      ]
    },
    {
      "cell_type": "markdown",
      "metadata": {
        "id": "0REZ8HdpsccR"
      },
      "source": [
        "#### One-Hot Encoding, Decision Tree, Model Interpretation"
      ]
    },
    {
      "cell_type": "code",
      "metadata": {
        "id": "gV-grmYKpDp9",
        "colab": {
          "base_uri": "https://localhost:8080/",
          "height": 934
        },
        "outputId": "91a54e99-3cc1-4a3d-90ac-95bc26348337"
      },
      "source": [
        "# Plot tree\n",
        "# https://scikit-learn.org/stable/modules/generated/sklearn.tree.export_graphviz.html\n",
        "import graphviz\n",
        "from sklearn.tree import export_graphviz\n",
        "\n",
        "model = dt.named_steps['decisiontreeclassifier']\n",
        "encoder = dt.named_steps['onehotencoder']\n",
        "encoded_columns = encoder.transform(X_val[[feature]]).columns\n",
        "\n",
        "dot_data = export_graphviz(model, \n",
        "                           out_file=None, \n",
        "                           max_depth=7, \n",
        "                           feature_names=encoded_columns,\n",
        "                           class_names=model.classes_, \n",
        "                           impurity=False, \n",
        "                           filled=True, \n",
        "                           proportion=True, \n",
        "                           rounded=True)   \n",
        "display(graphviz.Source(dot_data))"
      ],
      "execution_count": 36,
      "outputs": [
        {
          "output_type": "display_data",
          "data": {
            "text/plain": [
              "<graphviz.files.Source at 0x7f6b95fc4c10>"
            ],
            "image/svg+xml": "<?xml version=\"1.0\" encoding=\"UTF-8\" standalone=\"no\"?>\n<!DOCTYPE svg PUBLIC \"-//W3C//DTD SVG 1.1//EN\"\n \"http://www.w3.org/Graphics/SVG/1.1/DTD/svg11.dtd\">\n<!-- Generated by graphviz version 2.40.1 (20161225.0304)\n -->\n<!-- Title: Tree Pages: 1 -->\n<svg width=\"1067pt\" height=\"685pt\"\n viewBox=\"0.00 0.00 1067.00 685.00\" xmlns=\"http://www.w3.org/2000/svg\" xmlns:xlink=\"http://www.w3.org/1999/xlink\">\n<g id=\"graph0\" class=\"graph\" transform=\"scale(1 1) rotate(0) translate(4 681)\">\n<title>Tree</title>\n<polygon fill=\"#ffffff\" stroke=\"transparent\" points=\"-4,4 -4,-681 1063,-681 1063,4 -4,4\"/>\n<!-- 0 -->\n<g id=\"node1\" class=\"node\">\n<title>0</title>\n<path fill=\"#f8decc\" stroke=\"#000000\" d=\"M944.5,-677C944.5,-677 725.5,-677 725.5,-677 719.5,-677 713.5,-671 713.5,-665 713.5,-665 713.5,-621 713.5,-621 713.5,-615 719.5,-609 725.5,-609 725.5,-609 944.5,-609 944.5,-609 950.5,-609 956.5,-615 956.5,-621 956.5,-621 956.5,-665 956.5,-665 956.5,-671 950.5,-677 944.5,-677\"/>\n<text text-anchor=\"middle\" x=\"835\" y=\"-661.8\" font-family=\"Helvetica,sans-Serif\" font-size=\"14.00\" fill=\"#000000\">extraction_type_class_other &lt;= 0.5</text>\n<text text-anchor=\"middle\" x=\"835\" y=\"-646.8\" font-family=\"Helvetica,sans-Serif\" font-size=\"14.00\" fill=\"#000000\">samples = 100.0%</text>\n<text text-anchor=\"middle\" x=\"835\" y=\"-631.8\" font-family=\"Helvetica,sans-Serif\" font-size=\"14.00\" fill=\"#000000\">value = [0.543, 0.073, 0.384]</text>\n<text text-anchor=\"middle\" x=\"835\" y=\"-616.8\" font-family=\"Helvetica,sans-Serif\" font-size=\"14.00\" fill=\"#000000\">class = functional</text>\n</g>\n<!-- 1 -->\n<g id=\"node2\" class=\"node\">\n<title>1</title>\n<path fill=\"#f5ceb2\" stroke=\"#000000\" d=\"M837,-573C837,-573 577,-573 577,-573 571,-573 565,-567 565,-561 565,-561 565,-517 565,-517 565,-511 571,-505 577,-505 577,-505 837,-505 837,-505 843,-505 849,-511 849,-517 849,-517 849,-561 849,-561 849,-567 843,-573 837,-573\"/>\n<text text-anchor=\"middle\" x=\"707\" y=\"-557.8\" font-family=\"Helvetica,sans-Serif\" font-size=\"14.00\" fill=\"#000000\">extraction_type_class_motorpump &lt;= 0.5</text>\n<text text-anchor=\"middle\" x=\"707\" y=\"-542.8\" font-family=\"Helvetica,sans-Serif\" font-size=\"14.00\" fill=\"#000000\">samples = 89.1%</text>\n<text text-anchor=\"middle\" x=\"707\" y=\"-527.8\" font-family=\"Helvetica,sans-Serif\" font-size=\"14.00\" fill=\"#000000\">value = [0.59, 0.078, 0.332]</text>\n<text text-anchor=\"middle\" x=\"707\" y=\"-512.8\" font-family=\"Helvetica,sans-Serif\" font-size=\"14.00\" fill=\"#000000\">class = functional</text>\n</g>\n<!-- 0&#45;&gt;1 -->\n<g id=\"edge1\" class=\"edge\">\n<title>0&#45;&gt;1</title>\n<path fill=\"none\" stroke=\"#000000\" d=\"M793.088,-608.9465C781.485,-599.519 768.7779,-589.1946 756.7741,-579.4415\"/>\n<polygon fill=\"#000000\" stroke=\"#000000\" points=\"758.9744,-576.7196 749.0061,-573.13 754.5602,-582.1524 758.9744,-576.7196\"/>\n<text text-anchor=\"middle\" x=\"751.5786\" y=\"-594.2973\" font-family=\"Helvetica,sans-Serif\" font-size=\"14.00\" fill=\"#000000\">True</text>\n</g>\n<!-- 12 -->\n<g id=\"node13\" class=\"node\">\n<title>12</title>\n<path fill=\"#9d66eb\" stroke=\"#000000\" d=\"M1047,-565.5C1047,-565.5 879,-565.5 879,-565.5 873,-565.5 867,-559.5 867,-553.5 867,-553.5 867,-524.5 867,-524.5 867,-518.5 873,-512.5 879,-512.5 879,-512.5 1047,-512.5 1047,-512.5 1053,-512.5 1059,-518.5 1059,-524.5 1059,-524.5 1059,-553.5 1059,-553.5 1059,-559.5 1053,-565.5 1047,-565.5\"/>\n<text text-anchor=\"middle\" x=\"963\" y=\"-550.3\" font-family=\"Helvetica,sans-Serif\" font-size=\"14.00\" fill=\"#000000\">samples = 10.9%</text>\n<text text-anchor=\"middle\" x=\"963\" y=\"-535.3\" font-family=\"Helvetica,sans-Serif\" font-size=\"14.00\" fill=\"#000000\">value = [0.159, 0.031, 0.81]</text>\n<text text-anchor=\"middle\" x=\"963\" y=\"-520.3\" font-family=\"Helvetica,sans-Serif\" font-size=\"14.00\" fill=\"#000000\">class = non functional</text>\n</g>\n<!-- 0&#45;&gt;12 -->\n<g id=\"edge12\" class=\"edge\">\n<title>0&#45;&gt;12</title>\n<path fill=\"none\" stroke=\"#000000\" d=\"M876.912,-608.9465C891.5533,-597.0504 907.9526,-583.726 922.4785,-571.9237\"/>\n<polygon fill=\"#000000\" stroke=\"#000000\" points=\"924.7786,-574.5645 930.3327,-565.5422 920.3645,-569.1317 924.7786,-574.5645\"/>\n<text text-anchor=\"middle\" x=\"927.7602\" y=\"-586.7095\" font-family=\"Helvetica,sans-Serif\" font-size=\"14.00\" fill=\"#000000\">False</text>\n</g>\n<!-- 2 -->\n<g id=\"node3\" class=\"node\">\n<title>2</title>\n<path fill=\"#f4caac\" stroke=\"#000000\" d=\"M708.5,-469C708.5,-469 443.5,-469 443.5,-469 437.5,-469 431.5,-463 431.5,-457 431.5,-457 431.5,-413 431.5,-413 431.5,-407 437.5,-401 443.5,-401 443.5,-401 708.5,-401 708.5,-401 714.5,-401 720.5,-407 720.5,-413 720.5,-413 720.5,-457 720.5,-457 720.5,-463 714.5,-469 708.5,-469\"/>\n<text text-anchor=\"middle\" x=\"576\" y=\"-453.8\" font-family=\"Helvetica,sans-Serif\" font-size=\"14.00\" fill=\"#000000\">extraction_type_class_submersible &lt;= 0.5</text>\n<text text-anchor=\"middle\" x=\"576\" y=\"-438.8\" font-family=\"Helvetica,sans-Serif\" font-size=\"14.00\" fill=\"#000000\">samples = 84.1%</text>\n<text text-anchor=\"middle\" x=\"576\" y=\"-423.8\" font-family=\"Helvetica,sans-Serif\" font-size=\"14.00\" fill=\"#000000\">value = [0.603, 0.08, 0.318]</text>\n<text text-anchor=\"middle\" x=\"576\" y=\"-408.8\" font-family=\"Helvetica,sans-Serif\" font-size=\"14.00\" fill=\"#000000\">class = functional</text>\n</g>\n<!-- 1&#45;&gt;2 -->\n<g id=\"edge2\" class=\"edge\">\n<title>1&#45;&gt;2</title>\n<path fill=\"none\" stroke=\"#000000\" d=\"M664.1057,-504.9465C652.2307,-495.519 639.2259,-485.1946 626.9407,-475.4415\"/>\n<polygon fill=\"#000000\" stroke=\"#000000\" points=\"628.9989,-472.6066 618.9907,-469.13 624.6464,-478.089 628.9989,-472.6066\"/>\n</g>\n<!-- 11 -->\n<g id=\"node12\" class=\"node\">\n<title>11</title>\n<path fill=\"#d8c1f7\" stroke=\"#000000\" d=\"M927,-461.5C927,-461.5 751,-461.5 751,-461.5 745,-461.5 739,-455.5 739,-449.5 739,-449.5 739,-420.5 739,-420.5 739,-414.5 745,-408.5 751,-408.5 751,-408.5 927,-408.5 927,-408.5 933,-408.5 939,-414.5 939,-420.5 939,-420.5 939,-449.5 939,-449.5 939,-455.5 933,-461.5 927,-461.5\"/>\n<text text-anchor=\"middle\" x=\"839\" y=\"-446.3\" font-family=\"Helvetica,sans-Serif\" font-size=\"14.00\" fill=\"#000000\">samples = 5.0%</text>\n<text text-anchor=\"middle\" x=\"839\" y=\"-431.3\" font-family=\"Helvetica,sans-Serif\" font-size=\"14.00\" fill=\"#000000\">value = [0.381, 0.045, 0.574]</text>\n<text text-anchor=\"middle\" x=\"839\" y=\"-416.3\" font-family=\"Helvetica,sans-Serif\" font-size=\"14.00\" fill=\"#000000\">class = non functional</text>\n</g>\n<!-- 1&#45;&gt;11 -->\n<g id=\"edge11\" class=\"edge\">\n<title>1&#45;&gt;11</title>\n<path fill=\"none\" stroke=\"#000000\" d=\"M750.2217,-504.9465C765.3206,-493.0504 782.2324,-479.726 797.2122,-467.9237\"/>\n<polygon fill=\"#000000\" stroke=\"#000000\" points=\"799.623,-470.4802 805.3119,-461.5422 795.2909,-464.9817 799.623,-470.4802\"/>\n</g>\n<!-- 3 -->\n<g id=\"node4\" class=\"node\">\n<title>3</title>\n<path fill=\"#f4c7a8\" stroke=\"#000000\" d=\"M568.5,-365C568.5,-365 339.5,-365 339.5,-365 333.5,-365 327.5,-359 327.5,-353 327.5,-353 327.5,-309 327.5,-309 327.5,-303 333.5,-297 339.5,-297 339.5,-297 568.5,-297 568.5,-297 574.5,-297 580.5,-303 580.5,-309 580.5,-309 580.5,-353 580.5,-353 580.5,-359 574.5,-365 568.5,-365\"/>\n<text text-anchor=\"middle\" x=\"454\" y=\"-349.8\" font-family=\"Helvetica,sans-Serif\" font-size=\"14.00\" fill=\"#000000\">extraction_type_class_gravity &lt;= 0.5</text>\n<text text-anchor=\"middle\" x=\"454\" y=\"-334.8\" font-family=\"Helvetica,sans-Serif\" font-size=\"14.00\" fill=\"#000000\">samples = 73.8%</text>\n<text text-anchor=\"middle\" x=\"454\" y=\"-319.8\" font-family=\"Helvetica,sans-Serif\" font-size=\"14.00\" fill=\"#000000\">value = [0.611, 0.085, 0.304]</text>\n<text text-anchor=\"middle\" x=\"454\" y=\"-304.8\" font-family=\"Helvetica,sans-Serif\" font-size=\"14.00\" fill=\"#000000\">class = functional</text>\n</g>\n<!-- 2&#45;&gt;3 -->\n<g id=\"edge3\" class=\"edge\">\n<title>2&#45;&gt;3</title>\n<path fill=\"none\" stroke=\"#000000\" d=\"M536.0526,-400.9465C525.0988,-391.6088 513.1127,-381.3911 501.768,-371.7203\"/>\n<polygon fill=\"#000000\" stroke=\"#000000\" points=\"503.9179,-368.9538 494.0371,-365.13 499.3767,-374.2809 503.9179,-368.9538\"/>\n</g>\n<!-- 10 -->\n<g id=\"node11\" class=\"node\">\n<title>10</title>\n<path fill=\"#f9e4d5\" stroke=\"#000000\" d=\"M787,-357.5C787,-357.5 611,-357.5 611,-357.5 605,-357.5 599,-351.5 599,-345.5 599,-345.5 599,-316.5 599,-316.5 599,-310.5 605,-304.5 611,-304.5 611,-304.5 787,-304.5 787,-304.5 793,-304.5 799,-310.5 799,-316.5 799,-316.5 799,-345.5 799,-345.5 799,-351.5 793,-357.5 787,-357.5\"/>\n<text text-anchor=\"middle\" x=\"699\" y=\"-342.3\" font-family=\"Helvetica,sans-Serif\" font-size=\"14.00\" fill=\"#000000\">samples = 10.3%</text>\n<text text-anchor=\"middle\" x=\"699\" y=\"-327.3\" font-family=\"Helvetica,sans-Serif\" font-size=\"14.00\" fill=\"#000000\">value = [0.541, 0.042, 0.416]</text>\n<text text-anchor=\"middle\" x=\"699\" y=\"-312.3\" font-family=\"Helvetica,sans-Serif\" font-size=\"14.00\" fill=\"#000000\">class = functional</text>\n</g>\n<!-- 2&#45;&gt;10 -->\n<g id=\"edge10\" class=\"edge\">\n<title>2&#45;&gt;10</title>\n<path fill=\"none\" stroke=\"#000000\" d=\"M616.2748,-400.9465C630.2139,-389.1606 645.8112,-375.9726 659.6732,-364.2519\"/>\n<polygon fill=\"#000000\" stroke=\"#000000\" points=\"662.2324,-366.6715 667.6088,-357.5422 657.7127,-361.3262 662.2324,-366.6715\"/>\n</g>\n<!-- 4 -->\n<g id=\"node5\" class=\"node\">\n<title>4</title>\n<path fill=\"#f3c5a4\" stroke=\"#000000\" d=\"M458.5,-261C458.5,-261 181.5,-261 181.5,-261 175.5,-261 169.5,-255 169.5,-249 169.5,-249 169.5,-205 169.5,-205 169.5,-199 175.5,-193 181.5,-193 181.5,-193 458.5,-193 458.5,-193 464.5,-193 470.5,-199 470.5,-205 470.5,-205 470.5,-249 470.5,-249 470.5,-255 464.5,-261 458.5,-261\"/>\n<text text-anchor=\"middle\" x=\"320\" y=\"-245.8\" font-family=\"Helvetica,sans-Serif\" font-size=\"14.00\" fill=\"#000000\">extraction_type_class_wind&#45;powered &lt;= 0.5</text>\n<text text-anchor=\"middle\" x=\"320\" y=\"-230.8\" font-family=\"Helvetica,sans-Serif\" font-size=\"14.00\" fill=\"#000000\">samples = 28.7%</text>\n<text text-anchor=\"middle\" x=\"320\" y=\"-215.8\" font-family=\"Helvetica,sans-Serif\" font-size=\"14.00\" fill=\"#000000\">value = [0.629, 0.059, 0.311]</text>\n<text text-anchor=\"middle\" x=\"320\" y=\"-200.8\" font-family=\"Helvetica,sans-Serif\" font-size=\"14.00\" fill=\"#000000\">class = functional</text>\n</g>\n<!-- 3&#45;&gt;4 -->\n<g id=\"edge4\" class=\"edge\">\n<title>3&#45;&gt;4</title>\n<path fill=\"none\" stroke=\"#000000\" d=\"M410.1234,-296.9465C397.9765,-287.519 384.6738,-277.1946 372.1073,-267.4415\"/>\n<polygon fill=\"#000000\" stroke=\"#000000\" points=\"374.021,-264.4963 363.9752,-261.13 369.7291,-270.0262 374.021,-264.4963\"/>\n</g>\n<!-- 9 -->\n<g id=\"node10\" class=\"node\">\n<title>9</title>\n<path fill=\"#f4c9aa\" stroke=\"#000000\" d=\"M677,-253.5C677,-253.5 501,-253.5 501,-253.5 495,-253.5 489,-247.5 489,-241.5 489,-241.5 489,-212.5 489,-212.5 489,-206.5 495,-200.5 501,-200.5 501,-200.5 677,-200.5 677,-200.5 683,-200.5 689,-206.5 689,-212.5 689,-212.5 689,-241.5 689,-241.5 689,-247.5 683,-253.5 677,-253.5\"/>\n<text text-anchor=\"middle\" x=\"589\" y=\"-238.3\" font-family=\"Helvetica,sans-Serif\" font-size=\"14.00\" fill=\"#000000\">samples = 45.1%</text>\n<text text-anchor=\"middle\" x=\"589\" y=\"-223.3\" font-family=\"Helvetica,sans-Serif\" font-size=\"14.00\" fill=\"#000000\">value = [0.599, 0.101, 0.299]</text>\n<text text-anchor=\"middle\" x=\"589\" y=\"-208.3\" font-family=\"Helvetica,sans-Serif\" font-size=\"14.00\" fill=\"#000000\">class = functional</text>\n</g>\n<!-- 3&#45;&gt;9 -->\n<g id=\"edge9\" class=\"edge\">\n<title>3&#45;&gt;9</title>\n<path fill=\"none\" stroke=\"#000000\" d=\"M498.204,-296.9465C513.6461,-285.0504 530.9422,-271.726 546.2625,-259.9237\"/>\n<polygon fill=\"#000000\" stroke=\"#000000\" points=\"548.7603,-262.4176 554.5462,-253.5422 544.4883,-256.8723 548.7603,-262.4176\"/>\n</g>\n<!-- 5 -->\n<g id=\"node6\" class=\"node\">\n<title>5</title>\n<path fill=\"#f3c4a3\" stroke=\"#000000\" d=\"M319,-157C319,-157 63,-157 63,-157 57,-157 51,-151 51,-145 51,-145 51,-101 51,-101 51,-95 57,-89 63,-89 63,-89 319,-89 319,-89 325,-89 331,-95 331,-101 331,-101 331,-145 331,-145 331,-151 325,-157 319,-157\"/>\n<text text-anchor=\"middle\" x=\"191\" y=\"-141.8\" font-family=\"Helvetica,sans-Serif\" font-size=\"14.00\" fill=\"#000000\">extraction_type_class_rope pump &lt;= 0.5</text>\n<text text-anchor=\"middle\" x=\"191\" y=\"-126.8\" font-family=\"Helvetica,sans-Serif\" font-size=\"14.00\" fill=\"#000000\">samples = 28.5%</text>\n<text text-anchor=\"middle\" x=\"191\" y=\"-111.8\" font-family=\"Helvetica,sans-Serif\" font-size=\"14.00\" fill=\"#000000\">value = [0.631, 0.059, 0.31]</text>\n<text text-anchor=\"middle\" x=\"191\" y=\"-96.8\" font-family=\"Helvetica,sans-Serif\" font-size=\"14.00\" fill=\"#000000\">class = functional</text>\n</g>\n<!-- 4&#45;&gt;5 -->\n<g id=\"edge5\" class=\"edge\">\n<title>4&#45;&gt;5</title>\n<path fill=\"none\" stroke=\"#000000\" d=\"M277.7606,-192.9465C266.0669,-183.519 253.2606,-173.1946 241.163,-163.4415\"/>\n<polygon fill=\"#000000\" stroke=\"#000000\" points=\"243.3162,-160.6816 233.3343,-157.13 238.9227,-166.1312 243.3162,-160.6816\"/>\n</g>\n<!-- 8 -->\n<g id=\"node9\" class=\"node\">\n<title>8</title>\n<path fill=\"#f8f3fd\" stroke=\"#000000\" d=\"M537,-149.5C537,-149.5 361,-149.5 361,-149.5 355,-149.5 349,-143.5 349,-137.5 349,-137.5 349,-108.5 349,-108.5 349,-102.5 355,-96.5 361,-96.5 361,-96.5 537,-96.5 537,-96.5 543,-96.5 549,-102.5 549,-108.5 549,-108.5 549,-137.5 549,-137.5 549,-143.5 543,-149.5 537,-149.5\"/>\n<text text-anchor=\"middle\" x=\"449\" y=\"-134.3\" font-family=\"Helvetica,sans-Serif\" font-size=\"14.00\" fill=\"#000000\">samples = 0.2%</text>\n<text text-anchor=\"middle\" x=\"449\" y=\"-119.3\" font-family=\"Helvetica,sans-Serif\" font-size=\"14.00\" fill=\"#000000\">value = [0.452, 0.065, 0.484]</text>\n<text text-anchor=\"middle\" x=\"449\" y=\"-104.3\" font-family=\"Helvetica,sans-Serif\" font-size=\"14.00\" fill=\"#000000\">class = non functional</text>\n</g>\n<!-- 4&#45;&gt;8 -->\n<g id=\"edge8\" class=\"edge\">\n<title>4&#45;&gt;8</title>\n<path fill=\"none\" stroke=\"#000000\" d=\"M362.2394,-192.9465C376.9952,-181.0504 393.5225,-167.726 408.162,-155.9237\"/>\n<polygon fill=\"#000000\" stroke=\"#000000\" points=\"410.4891,-158.5433 416.0775,-149.5422 406.0957,-153.0938 410.4891,-158.5433\"/>\n</g>\n<!-- 6 -->\n<g id=\"node7\" class=\"node\">\n<title>6</title>\n<path fill=\"#f3c5a3\" stroke=\"#000000\" d=\"M164,-53C164,-53 12,-53 12,-53 6,-53 0,-47 0,-41 0,-41 0,-12 0,-12 0,-6 6,0 12,0 12,0 164,0 164,0 170,0 176,-6 176,-12 176,-12 176,-41 176,-41 176,-47 170,-53 164,-53\"/>\n<text text-anchor=\"middle\" x=\"88\" y=\"-37.8\" font-family=\"Helvetica,sans-Serif\" font-size=\"14.00\" fill=\"#000000\">samples = 27.7%</text>\n<text text-anchor=\"middle\" x=\"88\" y=\"-22.8\" font-family=\"Helvetica,sans-Serif\" font-size=\"14.00\" fill=\"#000000\">value = [0.63, 0.06, 0.31]</text>\n<text text-anchor=\"middle\" x=\"88\" y=\"-7.8\" font-family=\"Helvetica,sans-Serif\" font-size=\"14.00\" fill=\"#000000\">class = functional</text>\n</g>\n<!-- 5&#45;&gt;6 -->\n<g id=\"edge6\" class=\"edge\">\n<title>5&#45;&gt;6</title>\n<path fill=\"none\" stroke=\"#000000\" d=\"M154.6861,-88.9777C144.7168,-79.6376 133.9138,-69.5163 123.9643,-60.1947\"/>\n<polygon fill=\"#000000\" stroke=\"#000000\" points=\"126.2408,-57.5314 116.5502,-53.2485 121.4548,-62.6397 126.2408,-57.5314\"/>\n</g>\n<!-- 7 -->\n<g id=\"node8\" class=\"node\">\n<title>7</title>\n<path fill=\"#f2bf9b\" stroke=\"#000000\" d=\"M382,-53C382,-53 206,-53 206,-53 200,-53 194,-47 194,-41 194,-41 194,-12 194,-12 194,-6 200,0 206,0 206,0 382,0 382,0 388,0 394,-6 394,-12 394,-12 394,-41 394,-41 394,-47 388,-53 382,-53\"/>\n<text text-anchor=\"middle\" x=\"294\" y=\"-37.8\" font-family=\"Helvetica,sans-Serif\" font-size=\"14.00\" fill=\"#000000\">samples = 0.7%</text>\n<text text-anchor=\"middle\" x=\"294\" y=\"-22.8\" font-family=\"Helvetica,sans-Serif\" font-size=\"14.00\" fill=\"#000000\">value = [0.657, 0.037, 0.306]</text>\n<text text-anchor=\"middle\" x=\"294\" y=\"-7.8\" font-family=\"Helvetica,sans-Serif\" font-size=\"14.00\" fill=\"#000000\">class = functional</text>\n</g>\n<!-- 5&#45;&gt;7 -->\n<g id=\"edge7\" class=\"edge\">\n<title>5&#45;&gt;7</title>\n<path fill=\"none\" stroke=\"#000000\" d=\"M227.3139,-88.9777C237.2832,-79.6376 248.0862,-69.5163 258.0357,-60.1947\"/>\n<polygon fill=\"#000000\" stroke=\"#000000\" points=\"260.5452,-62.6397 265.4498,-53.2485 255.7592,-57.5314 260.5452,-62.6397\"/>\n</g>\n</g>\n</svg>\n"
          },
          "metadata": {
            "tags": []
          }
        }
      ]
    },
    {
      "cell_type": "markdown",
      "metadata": {
        "id": "QUd6gzcZgLVz"
      },
      "source": [
        "### [Ordinal Encoding](https://contrib.scikit-learn.org/category_encoders/ordinal.html)\n",
        "\n",
        "> Ordinal encoding uses a single column of integers to represent the classes. An optional mapping dict can be passed in; in this case, we use the knowledge that there is some true order to the classes themselves. Otherwise, the classes are assumed to have no true order and integers are selected at random."
      ]
    },
    {
      "cell_type": "code",
      "metadata": {
        "id": "CnBz2RbwgLVz",
        "colab": {
          "base_uri": "https://localhost:8080/",
          "height": 686
        },
        "outputId": "50be9cea-50ee-4425-9f6d-0281dcf76615"
      },
      "source": [
        "encoder = ce.OrdinalEncoder()\n",
        "encoded = encoder.fit_transform(X_train[[feature]])\n",
        "print(f'1 column, {encoded[feature].nunique()} unique values')\n",
        "encoded.head(20)"
      ],
      "execution_count": 37,
      "outputs": [
        {
          "output_type": "stream",
          "text": [
            "1 column, 7 unique values\n"
          ],
          "name": "stdout"
        },
        {
          "output_type": "execute_result",
          "data": {
            "text/html": [
              "<div>\n",
              "<style scoped>\n",
              "    .dataframe tbody tr th:only-of-type {\n",
              "        vertical-align: middle;\n",
              "    }\n",
              "\n",
              "    .dataframe tbody tr th {\n",
              "        vertical-align: top;\n",
              "    }\n",
              "\n",
              "    .dataframe thead th {\n",
              "        text-align: right;\n",
              "    }\n",
              "</style>\n",
              "<table border=\"1\" class=\"dataframe\">\n",
              "  <thead>\n",
              "    <tr style=\"text-align: right;\">\n",
              "      <th></th>\n",
              "      <th>extraction_type_class</th>\n",
              "    </tr>\n",
              "  </thead>\n",
              "  <tbody>\n",
              "    <tr>\n",
              "      <th>43360</th>\n",
              "      <td>1</td>\n",
              "    </tr>\n",
              "    <tr>\n",
              "      <th>7263</th>\n",
              "      <td>1</td>\n",
              "    </tr>\n",
              "    <tr>\n",
              "      <th>2486</th>\n",
              "      <td>2</td>\n",
              "    </tr>\n",
              "    <tr>\n",
              "      <th>313</th>\n",
              "      <td>3</td>\n",
              "    </tr>\n",
              "    <tr>\n",
              "      <th>52726</th>\n",
              "      <td>4</td>\n",
              "    </tr>\n",
              "    <tr>\n",
              "      <th>8558</th>\n",
              "      <td>1</td>\n",
              "    </tr>\n",
              "    <tr>\n",
              "      <th>2559</th>\n",
              "      <td>1</td>\n",
              "    </tr>\n",
              "    <tr>\n",
              "      <th>54735</th>\n",
              "      <td>4</td>\n",
              "    </tr>\n",
              "    <tr>\n",
              "      <th>25763</th>\n",
              "      <td>2</td>\n",
              "    </tr>\n",
              "    <tr>\n",
              "      <th>44540</th>\n",
              "      <td>5</td>\n",
              "    </tr>\n",
              "    <tr>\n",
              "      <th>28603</th>\n",
              "      <td>3</td>\n",
              "    </tr>\n",
              "    <tr>\n",
              "      <th>4372</th>\n",
              "      <td>5</td>\n",
              "    </tr>\n",
              "    <tr>\n",
              "      <th>30666</th>\n",
              "      <td>1</td>\n",
              "    </tr>\n",
              "    <tr>\n",
              "      <th>6431</th>\n",
              "      <td>5</td>\n",
              "    </tr>\n",
              "    <tr>\n",
              "      <th>57420</th>\n",
              "      <td>3</td>\n",
              "    </tr>\n",
              "    <tr>\n",
              "      <th>1373</th>\n",
              "      <td>1</td>\n",
              "    </tr>\n",
              "    <tr>\n",
              "      <th>2026</th>\n",
              "      <td>1</td>\n",
              "    </tr>\n",
              "    <tr>\n",
              "      <th>58977</th>\n",
              "      <td>2</td>\n",
              "    </tr>\n",
              "    <tr>\n",
              "      <th>41101</th>\n",
              "      <td>1</td>\n",
              "    </tr>\n",
              "    <tr>\n",
              "      <th>10019</th>\n",
              "      <td>1</td>\n",
              "    </tr>\n",
              "  </tbody>\n",
              "</table>\n",
              "</div>"
            ],
            "text/plain": [
              "       extraction_type_class\n",
              "43360                      1\n",
              "7263                       1\n",
              "2486                       2\n",
              "313                        3\n",
              "52726                      4\n",
              "8558                       1\n",
              "2559                       1\n",
              "54735                      4\n",
              "25763                      2\n",
              "44540                      5\n",
              "28603                      3\n",
              "4372                       5\n",
              "30666                      1\n",
              "6431                       5\n",
              "57420                      3\n",
              "1373                       1\n",
              "2026                       1\n",
              "58977                      2\n",
              "41101                      1\n",
              "10019                      1"
            ]
          },
          "metadata": {
            "tags": []
          },
          "execution_count": 37
        }
      ]
    },
    {
      "cell_type": "markdown",
      "metadata": {
        "id": "Nd-ZWprasqUM"
      },
      "source": [
        "#### Ordinal Encoding, Logistic Regression, Validation Accuracy"
      ]
    },
    {
      "cell_type": "code",
      "metadata": {
        "id": "GJ1YpwjvrhfL",
        "colab": {
          "base_uri": "https://localhost:8080/"
        },
        "outputId": "36befa88-aa4d-40c0-d2d2-8baeb0099bf4"
      },
      "source": [
        "%%%time\n",
        "\n",
        "lr = make_pipeline(\n",
        "    ce.OrdinalEncoder(), \n",
        "    SimpleImputer(), \n",
        "    StandardScaler(), \n",
        "    LogisticRegressionCV(multi_class='auto', solver='lbfgs', cv=5, n_jobs=-1)\n",
        ")\n",
        "\n",
        "lr.fit(X_train[[feature]], y_train)\n",
        "score = lr.score(X_val[[feature]], y_val)\n",
        "print('Logistic Regression, Validation Accuracy', score)"
      ],
      "execution_count": 41,
      "outputs": [
        {
          "output_type": "stream",
          "text": [
            "Logistic Regression, Validation Accuracy 0.5417508417508418\n",
            "CPU times: user 356 ms, sys: 206 ms, total: 562 ms\n",
            "Wall time: 3.33 s\n"
          ],
          "name": "stdout"
        }
      ]
    },
    {
      "cell_type": "markdown",
      "metadata": {
        "id": "9lO_R3SksuHs"
      },
      "source": [
        "#### Ordinal Encoding, Decision Tree, Validation Accuracy"
      ]
    },
    {
      "cell_type": "code",
      "metadata": {
        "id": "aOELD_roriVI",
        "colab": {
          "base_uri": "https://localhost:8080/"
        },
        "outputId": "c7146807-2b36-48c5-cbe2-1c4ee03e21e1"
      },
      "source": [
        "%%%time\n",
        "dt = make_pipeline(\n",
        "    ce.OrdinalEncoder(), \n",
        "    SimpleImputer(), \n",
        "    DecisionTreeClassifier(random_state=42)\n",
        ")\n",
        "\n",
        "dt.fit(X_train[[feature]], y_train)\n",
        "score = dt.score(X_val[[feature]], y_val)\n",
        "print('Decision Tree, Validation Accuracy', score)"
      ],
      "execution_count": 42,
      "outputs": [
        {
          "output_type": "stream",
          "text": [
            "Decision Tree, Validation Accuracy 0.6202861952861953\n",
            "CPU times: user 90.5 ms, sys: 0 ns, total: 90.5 ms\n",
            "Wall time: 91.6 ms\n"
          ],
          "name": "stdout"
        }
      ]
    },
    {
      "cell_type": "markdown",
      "metadata": {
        "id": "7V2zHjiwswTg"
      },
      "source": [
        "#### Ordinal Encoding, Logistic Regression, Model Interpretation"
      ]
    },
    {
      "cell_type": "code",
      "metadata": {
        "id": "S9UPYPois8QR",
        "colab": {
          "base_uri": "https://localhost:8080/",
          "height": 265
        },
        "outputId": "ebb84c57-6f24-45fa-9be6-1ec38c32e5d7"
      },
      "source": [
        "model = lr.named_steps['logisticregressioncv']\n",
        "encoder = lr.named_steps['ordinalencoder']\n",
        "encoded_columns = encoder.transform(X_val[[feature]]).columns\n",
        "coefficients = pd.Series(model.coef_[0], encoded_columns)\n",
        "coefficients.sort_values().plot.barh(color='grey');"
      ],
      "execution_count": 40,
      "outputs": [
        {
          "output_type": "display_data",
          "data": {
            "image/png": "[encoded data removed]",
            "text/plain": [
              "<Figure size 432x288 with 1 Axes>"
            ]
          },
          "metadata": {
            "tags": [],
            "needs_background": "light"
          }
        }
      ]
    },
    {
      "cell_type": "markdown",
      "metadata": {
        "id": "ov0k56APhj_f"
      },
      "source": [
        "**Don't want use Ordinal Encoding in Regression-type classifiers** because it only assigns 1 coefficient and cannot understand the pattern well and the difference between the different categories."
      ]
    },
    {
      "cell_type": "markdown",
      "metadata": {
        "id": "MvmmvE8fsymh"
      },
      "source": [
        "#### Ordinal Encoding, Decision Tree, Model Interpretation"
      ]
    },
    {
      "cell_type": "code",
      "metadata": {
        "id": "jCvUu4Oms88b",
        "colab": {
          "base_uri": "https://localhost:8080/",
          "height": 796
        },
        "outputId": "315b5d99-9d67-4961-e7a2-eefe2e171e48"
      },
      "source": [
        "model = dt.named_steps['decisiontreeclassifier']\n",
        "encoder = dt.named_steps['ordinalencoder']\n",
        "encoded_columns = encoder.transform(X_val[[feature]]).columns\n",
        "\n",
        "dot_data = export_graphviz(model, \n",
        "                           out_file=None, \n",
        "                           max_depth=5, \n",
        "                           feature_names=encoded_columns,\n",
        "                           class_names=model.classes_, \n",
        "                           impurity=False, \n",
        "                           filled=True, \n",
        "                           proportion=True, \n",
        "                           rounded=True)   \n",
        "display(graphviz.Source(dot_data))"
      ],
      "execution_count": 43,
      "outputs": [
        {
          "output_type": "display_data",
          "data": {
            "text/plain": [
              "<graphviz.files.Source at 0x7f6b96c5a790>"
            ],
            "image/svg+xml": "<?xml version=\"1.0\" encoding=\"UTF-8\" standalone=\"no\"?>\n<!DOCTYPE svg PUBLIC \"-//W3C//DTD SVG 1.1//EN\"\n \"http://www.w3.org/Graphics/SVG/1.1/DTD/svg11.dtd\">\n<!-- Generated by graphviz version 2.40.1 (20161225.0304)\n -->\n<!-- Title: Tree Pages: 1 -->\n<svg width=\"1167pt\" height=\"581pt\"\n viewBox=\"0.00 0.00 1167.00 581.00\" xmlns=\"http://www.w3.org/2000/svg\" xmlns:xlink=\"http://www.w3.org/1999/xlink\">\n<g id=\"graph0\" class=\"graph\" transform=\"scale(1 1) rotate(0) translate(4 577)\">\n<title>Tree</title>\n<polygon fill=\"#ffffff\" stroke=\"transparent\" points=\"-4,4 -4,-577 1163,-577 1163,4 -4,4\"/>\n<!-- 0 -->\n<g id=\"node1\" class=\"node\">\n<title>0</title>\n<path fill=\"#f8decc\" stroke=\"#000000\" d=\"M500,-573C500,-573 322,-573 322,-573 316,-573 310,-567 310,-561 310,-561 310,-517 310,-517 310,-511 316,-505 322,-505 322,-505 500,-505 500,-505 506,-505 512,-511 512,-517 512,-517 512,-561 512,-561 512,-567 506,-573 500,-573\"/>\n<text text-anchor=\"middle\" x=\"411\" y=\"-557.8\" font-family=\"Helvetica,sans-Serif\" font-size=\"14.00\" fill=\"#000000\">extraction_type_class &lt;= 2.5</text>\n<text text-anchor=\"middle\" x=\"411\" y=\"-542.8\" font-family=\"Helvetica,sans-Serif\" font-size=\"14.00\" fill=\"#000000\">samples = 100.0%</text>\n<text text-anchor=\"middle\" x=\"411\" y=\"-527.8\" font-family=\"Helvetica,sans-Serif\" font-size=\"14.00\" fill=\"#000000\">value = [0.543, 0.073, 0.384]</text>\n<text text-anchor=\"middle\" x=\"411\" y=\"-512.8\" font-family=\"Helvetica,sans-Serif\" font-size=\"14.00\" fill=\"#000000\">class = functional</text>\n</g>\n<!-- 1 -->\n<g id=\"node2\" class=\"node\">\n<title>1</title>\n<path fill=\"#f4c7a8\" stroke=\"#000000\" d=\"M390,-469C390,-469 212,-469 212,-469 206,-469 200,-463 200,-457 200,-457 200,-413 200,-413 200,-407 206,-401 212,-401 212,-401 390,-401 390,-401 396,-401 402,-407 402,-413 402,-413 402,-457 402,-457 402,-463 396,-469 390,-469\"/>\n<text text-anchor=\"middle\" x=\"301\" y=\"-453.8\" font-family=\"Helvetica,sans-Serif\" font-size=\"14.00\" fill=\"#000000\">extraction_type_class &lt;= 1.5</text>\n<text text-anchor=\"middle\" x=\"301\" y=\"-438.8\" font-family=\"Helvetica,sans-Serif\" font-size=\"14.00\" fill=\"#000000\">samples = 72.9%</text>\n<text text-anchor=\"middle\" x=\"301\" y=\"-423.8\" font-family=\"Helvetica,sans-Serif\" font-size=\"14.00\" fill=\"#000000\">value = [0.611, 0.085, 0.304]</text>\n<text text-anchor=\"middle\" x=\"301\" y=\"-408.8\" font-family=\"Helvetica,sans-Serif\" font-size=\"14.00\" fill=\"#000000\">class = functional</text>\n</g>\n<!-- 0&#45;&gt;1 -->\n<g id=\"edge1\" class=\"edge\">\n<title>0&#45;&gt;1</title>\n<path fill=\"none\" stroke=\"#000000\" d=\"M374.9819,-504.9465C365.2954,-495.7884 354.7136,-485.7838 344.6603,-476.2788\"/>\n<polygon fill=\"#000000\" stroke=\"#000000\" points=\"346.7701,-473.4569 337.099,-469.13 341.961,-478.5434 346.7701,-473.4569\"/>\n<text text-anchor=\"middle\" x=\"337.7997\" y=\"-490.4202\" font-family=\"Helvetica,sans-Serif\" font-size=\"14.00\" fill=\"#000000\">True</text>\n</g>\n<!-- 4 -->\n<g id=\"node5\" class=\"node\">\n<title>4</title>\n<path fill=\"#d0b4f5\" stroke=\"#000000\" d=\"M610,-469C610,-469 432,-469 432,-469 426,-469 420,-463 420,-457 420,-457 420,-413 420,-413 420,-407 426,-401 432,-401 432,-401 610,-401 610,-401 616,-401 622,-407 622,-413 622,-413 622,-457 622,-457 622,-463 616,-469 610,-469\"/>\n<text text-anchor=\"middle\" x=\"521\" y=\"-453.8\" font-family=\"Helvetica,sans-Serif\" font-size=\"14.00\" fill=\"#000000\">extraction_type_class &lt;= 3.5</text>\n<text text-anchor=\"middle\" x=\"521\" y=\"-438.8\" font-family=\"Helvetica,sans-Serif\" font-size=\"14.00\" fill=\"#000000\">samples = 27.1%</text>\n<text text-anchor=\"middle\" x=\"521\" y=\"-423.8\" font-family=\"Helvetica,sans-Serif\" font-size=\"14.00\" fill=\"#000000\">value = [0.361, 0.038, 0.601]</text>\n<text text-anchor=\"middle\" x=\"521\" y=\"-408.8\" font-family=\"Helvetica,sans-Serif\" font-size=\"14.00\" fill=\"#000000\">class = non functional</text>\n</g>\n<!-- 0&#45;&gt;4 -->\n<g id=\"edge4\" class=\"edge\">\n<title>0&#45;&gt;4</title>\n<path fill=\"none\" stroke=\"#000000\" d=\"M447.0181,-504.9465C456.7046,-495.7884 467.2864,-485.7838 477.3397,-476.2788\"/>\n<polygon fill=\"#000000\" stroke=\"#000000\" points=\"480.039,-478.5434 484.901,-469.13 475.2299,-473.4569 480.039,-478.5434\"/>\n<text text-anchor=\"middle\" x=\"484.2003\" y=\"-490.4202\" font-family=\"Helvetica,sans-Serif\" font-size=\"14.00\" fill=\"#000000\">False</text>\n</g>\n<!-- 2 -->\n<g id=\"node3\" class=\"node\">\n<title>2</title>\n<path fill=\"#f4c9aa\" stroke=\"#000000\" d=\"M188,-357.5C188,-357.5 12,-357.5 12,-357.5 6,-357.5 0,-351.5 0,-345.5 0,-345.5 0,-316.5 0,-316.5 0,-310.5 6,-304.5 12,-304.5 12,-304.5 188,-304.5 188,-304.5 194,-304.5 200,-310.5 200,-316.5 200,-316.5 200,-345.5 200,-345.5 200,-351.5 194,-357.5 188,-357.5\"/>\n<text text-anchor=\"middle\" x=\"100\" y=\"-342.3\" font-family=\"Helvetica,sans-Serif\" font-size=\"14.00\" fill=\"#000000\">samples = 45.1%</text>\n<text text-anchor=\"middle\" x=\"100\" y=\"-327.3\" font-family=\"Helvetica,sans-Serif\" font-size=\"14.00\" fill=\"#000000\">value = [0.599, 0.101, 0.299]</text>\n<text text-anchor=\"middle\" x=\"100\" y=\"-312.3\" font-family=\"Helvetica,sans-Serif\" font-size=\"14.00\" fill=\"#000000\">class = functional</text>\n</g>\n<!-- 1&#45;&gt;2 -->\n<g id=\"edge2\" class=\"edge\">\n<title>1&#45;&gt;2</title>\n<path fill=\"none\" stroke=\"#000000\" d=\"M235.1851,-400.9465C211.1292,-388.4997 184.0513,-374.4892 160.4827,-362.2946\"/>\n<polygon fill=\"#000000\" stroke=\"#000000\" points=\"161.7878,-359.0291 151.2978,-357.5422 158.571,-365.2462 161.7878,-359.0291\"/>\n</g>\n<!-- 3 -->\n<g id=\"node4\" class=\"node\">\n<title>3</title>\n<path fill=\"#f3c5a3\" stroke=\"#000000\" d=\"M382,-357.5C382,-357.5 230,-357.5 230,-357.5 224,-357.5 218,-351.5 218,-345.5 218,-345.5 218,-316.5 218,-316.5 218,-310.5 224,-304.5 230,-304.5 230,-304.5 382,-304.5 382,-304.5 388,-304.5 394,-310.5 394,-316.5 394,-316.5 394,-345.5 394,-345.5 394,-351.5 388,-357.5 382,-357.5\"/>\n<text text-anchor=\"middle\" x=\"306\" y=\"-342.3\" font-family=\"Helvetica,sans-Serif\" font-size=\"14.00\" fill=\"#000000\">samples = 27.7%</text>\n<text text-anchor=\"middle\" x=\"306\" y=\"-327.3\" font-family=\"Helvetica,sans-Serif\" font-size=\"14.00\" fill=\"#000000\">value = [0.63, 0.06, 0.31]</text>\n<text text-anchor=\"middle\" x=\"306\" y=\"-312.3\" font-family=\"Helvetica,sans-Serif\" font-size=\"14.00\" fill=\"#000000\">class = functional</text>\n</g>\n<!-- 1&#45;&gt;3 -->\n<g id=\"edge3\" class=\"edge\">\n<title>1&#45;&gt;3</title>\n<path fill=\"none\" stroke=\"#000000\" d=\"M302.6372,-400.9465C303.1509,-390.2621 303.7199,-378.4254 304.2416,-367.5742\"/>\n<polygon fill=\"#000000\" stroke=\"#000000\" points=\"307.7396,-367.6987 304.7239,-357.5422 300.7477,-367.3625 307.7396,-367.6987\"/>\n</g>\n<!-- 5 -->\n<g id=\"node6\" class=\"node\">\n<title>5</title>\n<path fill=\"#9d66eb\" stroke=\"#000000\" d=\"M601,-357.5C601,-357.5 433,-357.5 433,-357.5 427,-357.5 421,-351.5 421,-345.5 421,-345.5 421,-316.5 421,-316.5 421,-310.5 427,-304.5 433,-304.5 433,-304.5 601,-304.5 601,-304.5 607,-304.5 613,-310.5 613,-316.5 613,-316.5 613,-345.5 613,-345.5 613,-351.5 607,-357.5 601,-357.5\"/>\n<text text-anchor=\"middle\" x=\"517\" y=\"-342.3\" font-family=\"Helvetica,sans-Serif\" font-size=\"14.00\" fill=\"#000000\">samples = 10.9%</text>\n<text text-anchor=\"middle\" x=\"517\" y=\"-327.3\" font-family=\"Helvetica,sans-Serif\" font-size=\"14.00\" fill=\"#000000\">value = [0.159, 0.031, 0.81]</text>\n<text text-anchor=\"middle\" x=\"517\" y=\"-312.3\" font-family=\"Helvetica,sans-Serif\" font-size=\"14.00\" fill=\"#000000\">class = non functional</text>\n</g>\n<!-- 4&#45;&gt;5 -->\n<g id=\"edge5\" class=\"edge\">\n<title>4&#45;&gt;5</title>\n<path fill=\"none\" stroke=\"#000000\" d=\"M519.6903,-400.9465C519.2793,-390.2621 518.8241,-378.4254 518.4067,-367.5742\"/>\n<polygon fill=\"#000000\" stroke=\"#000000\" points=\"521.9027,-367.4002 518.0209,-357.5422 514.9079,-367.6693 521.9027,-367.4002\"/>\n</g>\n<!-- 6 -->\n<g id=\"node7\" class=\"node\">\n<title>6</title>\n<path fill=\"#fdf7f2\" stroke=\"#000000\" d=\"M821,-365C821,-365 643,-365 643,-365 637,-365 631,-359 631,-353 631,-353 631,-309 631,-309 631,-303 637,-297 643,-297 643,-297 821,-297 821,-297 827,-297 833,-303 833,-309 833,-309 833,-353 833,-353 833,-359 827,-365 821,-365\"/>\n<text text-anchor=\"middle\" x=\"732\" y=\"-349.8\" font-family=\"Helvetica,sans-Serif\" font-size=\"14.00\" fill=\"#000000\">extraction_type_class &lt;= 4.5</text>\n<text text-anchor=\"middle\" x=\"732\" y=\"-334.8\" font-family=\"Helvetica,sans-Serif\" font-size=\"14.00\" fill=\"#000000\">samples = 16.2%</text>\n<text text-anchor=\"middle\" x=\"732\" y=\"-319.8\" font-family=\"Helvetica,sans-Serif\" font-size=\"14.00\" fill=\"#000000\">value = [0.497, 0.043, 0.46]</text>\n<text text-anchor=\"middle\" x=\"732\" y=\"-304.8\" font-family=\"Helvetica,sans-Serif\" font-size=\"14.00\" fill=\"#000000\">class = functional</text>\n</g>\n<!-- 4&#45;&gt;6 -->\n<g id=\"edge6\" class=\"edge\">\n<title>4&#45;&gt;6</title>\n<path fill=\"none\" stroke=\"#000000\" d=\"M590.0893,-400.9465C610.4002,-390.9354 632.7633,-379.9129 653.6112,-369.6371\"/>\n<polygon fill=\"#000000\" stroke=\"#000000\" points=\"655.3332,-372.6905 662.7555,-365.13 652.2385,-366.4117 655.3332,-372.6905\"/>\n</g>\n<!-- 7 -->\n<g id=\"node8\" class=\"node\">\n<title>7</title>\n<path fill=\"#d8c1f7\" stroke=\"#000000\" d=\"M710,-253.5C710,-253.5 534,-253.5 534,-253.5 528,-253.5 522,-247.5 522,-241.5 522,-241.5 522,-212.5 522,-212.5 522,-206.5 528,-200.5 534,-200.5 534,-200.5 710,-200.5 710,-200.5 716,-200.5 722,-206.5 722,-212.5 722,-212.5 722,-241.5 722,-241.5 722,-247.5 716,-253.5 710,-253.5\"/>\n<text text-anchor=\"middle\" x=\"622\" y=\"-238.3\" font-family=\"Helvetica,sans-Serif\" font-size=\"14.00\" fill=\"#000000\">samples = 5.0%</text>\n<text text-anchor=\"middle\" x=\"622\" y=\"-223.3\" font-family=\"Helvetica,sans-Serif\" font-size=\"14.00\" fill=\"#000000\">value = [0.381, 0.045, 0.574]</text>\n<text text-anchor=\"middle\" x=\"622\" y=\"-208.3\" font-family=\"Helvetica,sans-Serif\" font-size=\"14.00\" fill=\"#000000\">class = non functional</text>\n</g>\n<!-- 6&#45;&gt;7 -->\n<g id=\"edge7\" class=\"edge\">\n<title>6&#45;&gt;7</title>\n<path fill=\"none\" stroke=\"#000000\" d=\"M695.9819,-296.9465C683.6325,-285.2707 669.8278,-272.219 657.5183,-260.5809\"/>\n<polygon fill=\"#000000\" stroke=\"#000000\" points=\"659.7445,-257.869 650.0734,-253.5422 654.9354,-262.9556 659.7445,-257.869\"/>\n</g>\n<!-- 8 -->\n<g id=\"node9\" class=\"node\">\n<title>8</title>\n<path fill=\"#f9e2d1\" stroke=\"#000000\" d=\"M930,-261C930,-261 752,-261 752,-261 746,-261 740,-255 740,-249 740,-249 740,-205 740,-205 740,-199 746,-193 752,-193 752,-193 930,-193 930,-193 936,-193 942,-199 942,-205 942,-205 942,-249 942,-249 942,-255 936,-261 930,-261\"/>\n<text text-anchor=\"middle\" x=\"841\" y=\"-245.8\" font-family=\"Helvetica,sans-Serif\" font-size=\"14.00\" fill=\"#000000\">extraction_type_class &lt;= 5.5</text>\n<text text-anchor=\"middle\" x=\"841\" y=\"-230.8\" font-family=\"Helvetica,sans-Serif\" font-size=\"14.00\" fill=\"#000000\">samples = 11.2%</text>\n<text text-anchor=\"middle\" x=\"841\" y=\"-215.8\" font-family=\"Helvetica,sans-Serif\" font-size=\"14.00\" fill=\"#000000\">value = [0.548, 0.042, 0.41]</text>\n<text text-anchor=\"middle\" x=\"841\" y=\"-200.8\" font-family=\"Helvetica,sans-Serif\" font-size=\"14.00\" fill=\"#000000\">class = functional</text>\n</g>\n<!-- 6&#45;&gt;8 -->\n<g id=\"edge8\" class=\"edge\">\n<title>6&#45;&gt;8</title>\n<path fill=\"none\" stroke=\"#000000\" d=\"M767.6907,-296.9465C777.2891,-287.7884 787.7747,-277.7838 797.7366,-268.2788\"/>\n<polygon fill=\"#000000\" stroke=\"#000000\" points=\"800.4102,-270.5655 805.2291,-261.13 795.5779,-265.5009 800.4102,-270.5655\"/>\n</g>\n<!-- 9 -->\n<g id=\"node10\" class=\"node\">\n<title>9</title>\n<path fill=\"#f9e4d5\" stroke=\"#000000\" d=\"M819,-149.5C819,-149.5 643,-149.5 643,-149.5 637,-149.5 631,-143.5 631,-137.5 631,-137.5 631,-108.5 631,-108.5 631,-102.5 637,-96.5 643,-96.5 643,-96.5 819,-96.5 819,-96.5 825,-96.5 831,-102.5 831,-108.5 831,-108.5 831,-137.5 831,-137.5 831,-143.5 825,-149.5 819,-149.5\"/>\n<text text-anchor=\"middle\" x=\"731\" y=\"-134.3\" font-family=\"Helvetica,sans-Serif\" font-size=\"14.00\" fill=\"#000000\">samples = 10.3%</text>\n<text text-anchor=\"middle\" x=\"731\" y=\"-119.3\" font-family=\"Helvetica,sans-Serif\" font-size=\"14.00\" fill=\"#000000\">value = [0.541, 0.042, 0.416]</text>\n<text text-anchor=\"middle\" x=\"731\" y=\"-104.3\" font-family=\"Helvetica,sans-Serif\" font-size=\"14.00\" fill=\"#000000\">class = functional</text>\n</g>\n<!-- 8&#45;&gt;9 -->\n<g id=\"edge9\" class=\"edge\">\n<title>8&#45;&gt;9</title>\n<path fill=\"none\" stroke=\"#000000\" d=\"M804.9819,-192.9465C792.6325,-181.2707 778.8278,-168.219 766.5183,-156.5809\"/>\n<polygon fill=\"#000000\" stroke=\"#000000\" points=\"768.7445,-153.869 759.0734,-149.5422 763.9354,-158.9556 768.7445,-153.869\"/>\n</g>\n<!-- 10 -->\n<g id=\"node11\" class=\"node\">\n<title>10</title>\n<path fill=\"#f4cbad\" stroke=\"#000000\" d=\"M1039,-157C1039,-157 861,-157 861,-157 855,-157 849,-151 849,-145 849,-145 849,-101 849,-101 849,-95 855,-89 861,-89 861,-89 1039,-89 1039,-89 1045,-89 1051,-95 1051,-101 1051,-101 1051,-145 1051,-145 1051,-151 1045,-157 1039,-157\"/>\n<text text-anchor=\"middle\" x=\"950\" y=\"-141.8\" font-family=\"Helvetica,sans-Serif\" font-size=\"14.00\" fill=\"#000000\">extraction_type_class &lt;= 6.5</text>\n<text text-anchor=\"middle\" x=\"950\" y=\"-126.8\" font-family=\"Helvetica,sans-Serif\" font-size=\"14.00\" fill=\"#000000\">samples = 0.9%</text>\n<text text-anchor=\"middle\" x=\"950\" y=\"-111.8\" font-family=\"Helvetica,sans-Serif\" font-size=\"14.00\" fill=\"#000000\">value = [0.614, 0.043, 0.343]</text>\n<text text-anchor=\"middle\" x=\"950\" y=\"-96.8\" font-family=\"Helvetica,sans-Serif\" font-size=\"14.00\" fill=\"#000000\">class = functional</text>\n</g>\n<!-- 8&#45;&gt;10 -->\n<g id=\"edge10\" class=\"edge\">\n<title>8&#45;&gt;10</title>\n<path fill=\"none\" stroke=\"#000000\" d=\"M876.6907,-192.9465C886.2891,-183.7884 896.7747,-173.7838 906.7366,-164.2788\"/>\n<polygon fill=\"#000000\" stroke=\"#000000\" points=\"909.4102,-166.5655 914.2291,-157.13 904.5779,-161.5009 909.4102,-166.5655\"/>\n</g>\n<!-- 11 -->\n<g id=\"node12\" class=\"node\">\n<title>11</title>\n<path fill=\"#f2bf9b\" stroke=\"#000000\" d=\"M929,-53C929,-53 753,-53 753,-53 747,-53 741,-47 741,-41 741,-41 741,-12 741,-12 741,-6 747,0 753,0 753,0 929,0 929,0 935,0 941,-6 941,-12 941,-12 941,-41 941,-41 941,-47 935,-53 929,-53\"/>\n<text text-anchor=\"middle\" x=\"841\" y=\"-37.8\" font-family=\"Helvetica,sans-Serif\" font-size=\"14.00\" fill=\"#000000\">samples = 0.7%</text>\n<text text-anchor=\"middle\" x=\"841\" y=\"-22.8\" font-family=\"Helvetica,sans-Serif\" font-size=\"14.00\" fill=\"#000000\">value = [0.657, 0.037, 0.306]</text>\n<text text-anchor=\"middle\" x=\"841\" y=\"-7.8\" font-family=\"Helvetica,sans-Serif\" font-size=\"14.00\" fill=\"#000000\">class = functional</text>\n</g>\n<!-- 10&#45;&gt;11 -->\n<g id=\"edge11\" class=\"edge\">\n<title>10&#45;&gt;11</title>\n<path fill=\"none\" stroke=\"#000000\" d=\"M911.5707,-88.9777C900.9173,-79.546 889.3641,-69.3178 878.7499,-59.9208\"/>\n<polygon fill=\"#000000\" stroke=\"#000000\" points=\"881.0207,-57.2566 871.2133,-53.2485 876.3806,-62.4978 881.0207,-57.2566\"/>\n</g>\n<!-- 12 -->\n<g id=\"node13\" class=\"node\">\n<title>12</title>\n<path fill=\"#f8f3fd\" stroke=\"#000000\" d=\"M1147,-53C1147,-53 971,-53 971,-53 965,-53 959,-47 959,-41 959,-41 959,-12 959,-12 959,-6 965,0 971,0 971,0 1147,0 1147,0 1153,0 1159,-6 1159,-12 1159,-12 1159,-41 1159,-41 1159,-47 1153,-53 1147,-53\"/>\n<text text-anchor=\"middle\" x=\"1059\" y=\"-37.8\" font-family=\"Helvetica,sans-Serif\" font-size=\"14.00\" fill=\"#000000\">samples = 0.2%</text>\n<text text-anchor=\"middle\" x=\"1059\" y=\"-22.8\" font-family=\"Helvetica,sans-Serif\" font-size=\"14.00\" fill=\"#000000\">value = [0.452, 0.065, 0.484]</text>\n<text text-anchor=\"middle\" x=\"1059\" y=\"-7.8\" font-family=\"Helvetica,sans-Serif\" font-size=\"14.00\" fill=\"#000000\">class = non functional</text>\n</g>\n<!-- 10&#45;&gt;12 -->\n<g id=\"edge12\" class=\"edge\">\n<title>10&#45;&gt;12</title>\n<path fill=\"none\" stroke=\"#000000\" d=\"M988.4293,-88.9777C999.0827,-79.546 1010.6359,-69.3178 1021.2501,-59.9208\"/>\n<polygon fill=\"#000000\" stroke=\"#000000\" points=\"1023.6194,-62.4978 1028.7867,-53.2485 1018.9793,-57.2566 1023.6194,-62.4978\"/>\n</g>\n</g>\n</svg>\n"
          },
          "metadata": {
            "tags": []
          }
        }
      ]
    },
    {
      "cell_type": "markdown",
      "metadata": {
        "id": "P4EJi2GvgLVa"
      },
      "source": [
        "# Understand how tree ensembles reduce overfitting compared to a single decision tree with unlimited depth"
      ]
    },
    {
      "cell_type": "markdown",
      "metadata": {
        "id": "rPsoA9ywSLWs"
      },
      "source": [
        "## Overview"
      ]
    },
    {
      "cell_type": "markdown",
      "metadata": {
        "id": "0nNABF3HgLVg"
      },
      "source": [
        "### What's \"random\" about random forests?\n",
        "1. Each tree trains on a random bootstrap sample of the data. (In scikit-learn, for `RandomForestRegressor` and `RandomForestClassifier`, the `bootstrap` parameter's default is `True`.) This type of ensembling is called Bagging. (**B**ootstrap **AGG**regat**ING**.)\n",
        "2. Each split considers a random subset of the features. (In scikit-learn, when the `max_features` parameter is not `None`.) \n",
        "\n",
        "For extra randomness, you can try [\"extremely randomized trees\"](https://scikit-learn.org/stable/modules/ensemble.html#extremely-randomized-trees)!\n",
        "\n",
        ">In extremely randomized trees (see [ExtraTreesClassifier](https://scikit-learn.org/stable/modules/generated/sklearn.ensemble.ExtraTreesClassifier.html) and [ExtraTreesRegressor](https://scikit-learn.org/stable/modules/generated/sklearn.ensemble.ExtraTreesRegressor.html) classes), randomness goes one step further in the way splits are computed. As in random forests, a random subset of candidate features is used, but instead of looking for the most discriminative thresholds, thresholds are drawn at random for each candidate feature and the best of these randomly-generated thresholds is picked as the splitting rule. This usually allows to reduce the variance of the model a bit more, at the expense of a slightly greater increase in bias"
      ]
    },
    {
      "cell_type": "markdown",
      "metadata": {
        "id": "k3C0Gv1XSLWt"
      },
      "source": [
        "## Follow Along"
      ]
    },
    {
      "cell_type": "markdown",
      "metadata": {
        "id": "pUYP619CgLVb"
      },
      "source": [
        "### Example: [predicting golf putts](https://statmodeling.stat.columbia.edu/2008/12/04/the_golf_puttin/)\n",
        "(1 feature, non-linear, regression)"
      ]
    },
    {
      "cell_type": "code",
      "metadata": {
        "id": "b4640ukxgLVc"
      },
      "source": [
        "putts = pd.DataFrame(\n",
        "    columns=['distance', 'tries', 'successes'], \n",
        "    data = [[2, 1443, 1346],\n",
        "            [3, 694, 577],\n",
        "            [4, 455, 337],\n",
        "            [5, 353, 208],\n",
        "            [6, 272, 149],\n",
        "            [7, 256, 136],\n",
        "            [8, 240, 111],\n",
        "            [9, 217, 69],\n",
        "            [10, 200, 67],\n",
        "            [11, 237, 75],\n",
        "            [12, 202, 52],\n",
        "            [13, 192, 46],\n",
        "            [14, 174, 54],\n",
        "            [15, 167, 28],\n",
        "            [16, 201, 27],\n",
        "            [17, 195, 31],\n",
        "            [18, 191, 33],\n",
        "            [19, 147, 20],\n",
        "            [20, 152, 24]]\n",
        ")\n",
        "\n",
        "putts['rate of success'] = putts['successes'] / putts['tries']\n",
        "putts_X = putts[['distance']]\n",
        "putts_y = putts['rate of success']"
      ],
      "execution_count": 44,
      "outputs": []
    },
    {
      "cell_type": "code",
      "metadata": {
        "id": "T0IpCcKggLVd",
        "colab": {
          "base_uri": "https://localhost:8080/",
          "height": 637,
          "referenced_widgets": [
            "dba90ec0f09845d0bbee7a15c5c023d2",
            "364ab34d8345465d8050f46d18288f64",
            "e0b04d0086d64e84a34d7589fc32fd6a",
            "d3105cb1fccf4e42acff90a4b0b87708",
            "4699de001c8244a48fbe2163eb27553a",
            "ac50bde92f1e4abe99ce5f4f83d18fcd",
            "cb3686629c6e4876ab9bf1dc3be1b5f4",
            "ac6f8172cdde44dda87421cfae6097be",
            "368a953636f0434f9b47c81bd1fcaf33",
            "ae03c86c7f5a44ef97cc20c9cae46065"
          ]
        },
        "outputId": "e7ee0b57-a29f-4f53-ef54-8b05e39c8c44"
      },
      "source": [
        "%matplotlib inline\n",
        "import matplotlib.pyplot as plt\n",
        "from ipywidgets import interact\n",
        "from sklearn.ensemble import RandomForestRegressor\n",
        "from sklearn.tree import DecisionTreeRegressor\n",
        "\n",
        "def putt_trees(max_depth=1, n_estimators=1):\n",
        "    models = [DecisionTreeRegressor(max_depth=max_depth), \n",
        "              RandomForestRegressor(max_depth=max_depth, n_estimators=n_estimators)]\n",
        "    \n",
        "    for model in models:\n",
        "        name = model.__class__.__name__\n",
        "        model.fit(putts_X, putts_y)\n",
        "        ax = putts.plot('distance', 'rate of success', kind='scatter', title=name)\n",
        "        ax.step(putts_X, model.predict(putts_X), where='mid')\n",
        "        plt.show()\n",
        "        \n",
        "interact(putt_trees, max_depth=(1,6,1), n_estimators=(10,40,10));"
      ],
      "execution_count": 45,
      "outputs": [
        {
          "output_type": "display_data",
          "data": {
            "application/vnd.jupyter.widget-view+json": {
              "model_id": "dba90ec0f09845d0bbee7a15c5c023d2",
              "version_minor": 0,
              "version_major": 2
            },
            "text/plain": [
              "interactive(children=(IntSlider(value=1, description='max_depth', max=6, min=1), IntSlider(value=10, descripti…"
            ]
          },
          "metadata": {
            "tags": []
          }
        }
      ]
    },
    {
      "cell_type": "markdown",
      "metadata": {
        "id": "rq4Z_wQ_gLVj"
      },
      "source": [
        "### Go back to Tanzania Waterpumps ..."
      ]
    },
    {
      "cell_type": "markdown",
      "metadata": {
        "id": "FoSE9iT6YXQz"
      },
      "source": [
        "#### Helper function to visualize predicted probabilities\n",
        "\n"
      ]
    },
    {
      "cell_type": "code",
      "metadata": {
        "id": "HzIAjGpJgLVj"
      },
      "source": [
        "import itertools\n",
        "import seaborn as sns\n",
        "\n",
        "def pred_heatmap(model, X, features, class_index=-1, title='', num=100):\n",
        "    \"\"\"\n",
        "    Visualize predicted probabilities, for classifier fit on 2 numeric features\n",
        "    \n",
        "    Parameters\n",
        "    ----------\n",
        "    model : scikit-learn classifier, already fit\n",
        "    X : pandas dataframe, which was used to fit model\n",
        "    features : list of strings, column names of the 2 numeric features\n",
        "    class_index : integer, index of class label\n",
        "    title : string, title of plot\n",
        "    num : int, number of grid points for each feature\n",
        "    \n",
        "    Returns\n",
        "    -------\n",
        "    y_pred_proba : numpy array, predicted probabilities for class_index\n",
        "    \"\"\"\n",
        "    feature1, feature2 = features\n",
        "    min1, max1 = X[feature1].min(), X[feature1].max()\n",
        "    min2, max2 = X[feature2].min(), X[feature2].max()\n",
        "    x1 = np.linspace(min1, max1, num)\n",
        "    x2 = np.linspace(max2, min2, num)\n",
        "    combos = list(itertools.product(x1, x2))\n",
        "    y_pred_proba = model.predict_proba(combos)[:, class_index]\n",
        "    pred_grid = y_pred_proba.reshape(num, num).T\n",
        "    table = pd.DataFrame(pred_grid, columns=x1, index=x2)\n",
        "    sns.heatmap(table, vmin=0, vmax=1)\n",
        "    plt.xticks([])\n",
        "    plt.yticks([])\n",
        "    plt.xlabel(feature1)\n",
        "    plt.ylabel(feature2)\n",
        "    plt.title(title)\n",
        "    plt.show()\n",
        "    return y_pred_proba\n"
      ],
      "execution_count": 46,
      "outputs": []
    },
    {
      "cell_type": "markdown",
      "metadata": {
        "id": "DiRfPqHjgLVl"
      },
      "source": [
        "### Compare Decision Tree, Random Forest, Logistic Regression"
      ]
    },
    {
      "cell_type": "code",
      "metadata": {
        "id": "HKkMLXhMgLVl",
        "colab": {
          "base_uri": "https://localhost:8080/",
          "height": 864,
          "referenced_widgets": [
            "de26e3a250f740379e5351457ac8fe95",
            "ee06e521563f4216a1ec7ce744ddeb1c",
            "0a8eb341ff124c97b4f6e9a634477d4e",
            "d8fd23bcca824482986b351be1414715",
            "2c893b45d22144d2b18bc8eebd0438a3",
            "3d6e530a78a74ffca107645ae865f7f8",
            "229d8be60f554207a74c3106470b4d62",
            "fb48ed3d844e4f21ab3e6a8a3e4f0203",
            "27d4b5db58f84512bf166cfb5b498b24",
            "8004add3f4934230bee18a712d45c742"
          ]
        },
        "outputId": "745bcf2b-cc1f-47c6-d28e-15c06597f093"
      },
      "source": [
        "# Instructions\n",
        "# 1. Choose two features\n",
        "# 2. Run this code cell\n",
        "# 3. Interact with the widget sliders\n",
        "feature1 = 'longitude'\n",
        "feature2 = 'quantity'\n",
        "\n",
        "from sklearn.linear_model import LogisticRegression\n",
        "from sklearn.tree import DecisionTreeClassifier\n",
        "\n",
        "def get_X_y(df, feature1, feature2, target):\n",
        "    features = [feature1, feature2]\n",
        "    X = df[features]\n",
        "    y = df[target]\n",
        "    X = X.fillna(X.median())\n",
        "    X = ce.OrdinalEncoder().fit_transform(X)\n",
        "    return X, y\n",
        "\n",
        "def compare_models(max_depth=1, n_estimators=1):\n",
        "    models = [DecisionTreeClassifier(max_depth=max_depth), \n",
        "              RandomForestClassifier(max_depth=max_depth, n_estimators=n_estimators), \n",
        "              LogisticRegression(solver='lbfgs', multi_class='auto')]\n",
        "    \n",
        "    for model in models:\n",
        "        name = model.__class__.__name__\n",
        "        model.fit(X, y)\n",
        "        pred_heatmap(model, X, [feature1, feature2], class_index=0, title=name)\n",
        "\n",
        "X, y = get_X_y(train, feature1, feature2, target='status_group')\n",
        "interact(compare_models, max_depth=(1,6,1), n_estimators=(10,40,10));"
      ],
      "execution_count": 47,
      "outputs": [
        {
          "output_type": "display_data",
          "data": {
            "application/vnd.jupyter.widget-view+json": {
              "model_id": "de26e3a250f740379e5351457ac8fe95",
              "version_minor": 0,
              "version_major": 2
            },
            "text/plain": [
              "interactive(children=(IntSlider(value=1, description='max_depth', max=6, min=1), IntSlider(value=10, descripti…"
            ]
          },
          "metadata": {
            "tags": []
          }
        }
      ]
    },
    {
      "cell_type": "markdown",
      "metadata": {
        "id": "hOQqjLEDgLVn"
      },
      "source": [
        "### Bagging"
      ]
    },
    {
      "cell_type": "code",
      "metadata": {
        "id": "Hm4aPgs2gLVn",
        "colab": {
          "base_uri": "https://localhost:8080/",
          "height": 1000,
          "referenced_widgets": [
            "e966fe4e88b745d68fc1f704fe096240",
            "82bec0a78a7d414d97b6025291ceeb52",
            "44a3dba1830a475691fa8eada90113fd",
            "01ac574b3ede44999c6f49aa26ea23d0",
            "fa822bcc22d0403db84ba28c12cd639b",
            "b3ebbdc816dd4aaaa45fe3fc22f315ea",
            "bf60b30ea1e8401fb4e4ee04826603de",
            "d515631f26f6433f9b67d8ec5e02424d",
            "213388635c7c4f48aebbb1a643fbfe38",
            "3c402b27392343669de2093b603a6c18"
          ]
        },
        "outputId": "6ef944d7-7dab-4fe2-9031-824edf8b9174"
      },
      "source": [
        "# Do-it-yourself Bagging Ensemble of Decision Trees (like a Random Forest)\n",
        "\n",
        "# Instructions\n",
        "# 1. Choose two features\n",
        "# 2. Run this code cell\n",
        "# 3. Interact with the widget sliders\n",
        "\n",
        "feature1 = 'longitude'\n",
        "feature2 = 'latitude'\n",
        "\n",
        "def waterpumps_bagging(max_depth=1, n_estimators=1):\n",
        "    predicteds = []\n",
        "    for i in range(n_estimators):\n",
        "        title = f'Tree {i+1}'\n",
        "        bootstrap_sample = train.sample(n=len(train), replace=True)\n",
        "        X, y = get_X_y(bootstrap_sample, feature1, feature2, target='status_group')\n",
        "        tree = DecisionTreeClassifier(max_depth=max_depth)\n",
        "        tree.fit(X, y)\n",
        "        predicted = pred_heatmap(tree, X, [feature1, feature2], class_index=0, title=title)\n",
        "        predicteds.append(predicted)\n",
        "    \n",
        "    ensembled = np.vstack(predicteds).mean(axis=0)\n",
        "    title = f'Ensemble of {n_estimators} trees, with max_depth={max_depth}'\n",
        "    sns.heatmap(ensembled.reshape(100, 100).T, vmin=0, vmax=1)\n",
        "    plt.title(title)\n",
        "    plt.xlabel(feature1)\n",
        "    plt.ylabel(feature2)\n",
        "    plt.xticks([])\n",
        "    plt.yticks([])\n",
        "    plt.show()\n",
        "        \n",
        "interact(waterpumps_bagging, max_depth=(1,6,1), n_estimators=(2,5,1));"
      ],
      "execution_count": 48,
      "outputs": [
        {
          "output_type": "display_data",
          "data": {
            "application/vnd.jupyter.widget-view+json": {
              "model_id": "e966fe4e88b745d68fc1f704fe096240",
              "version_minor": 0,
              "version_major": 2
            },
            "text/plain": [
              "interactive(children=(IntSlider(value=1, description='max_depth', max=6, min=1), IntSlider(value=2, descriptio…"
            ]
          },
          "metadata": {
            "tags": []
          }
        }
      ]
    },
    {
      "cell_type": "markdown",
      "metadata": {
        "id": "wYoSBi15akWP"
      },
      "source": [
        "# Review\n",
        "\n",
        "#### Try Tree Ensembles when you do machine learning with labeled, tabular data\n",
        "- \"Tree Ensembles\" means Random Forest or Gradient Boosting models. \n",
        "- [Tree Ensembles often have the best predictive accuracy](https://arxiv.org/abs/1708.05070) with labeled, tabular data.\n",
        "- Why? Because trees can fit non-linear, non-[monotonic](https://en.wikipedia.org/wiki/Monotonic_function) relationships, and [interactions](https://christophm.github.io/interpretable-ml-book/interaction.html) between features.\n",
        "- A single decision tree, grown to unlimited depth, will [overfit](http://www.r2d3.us/visual-intro-to-machine-learning-part-1/). We solve this problem by ensembling trees, with bagging (Random Forest) or boosting (Gradient Boosting).\n",
        "- Random Forest's advantage: may be less sensitive to hyperparameters. Gradient Boosting's advantage: may get better predictive accuracy.\n",
        "\n",
        "#### One-hot encoding isn’t the only way, and may not be the best way, of categorical encoding for tree ensembles.\n",
        "- For example, tree ensembles can work with arbitrary \"ordinal\" encoding! (Randomly assigning an integer to each category.) Compared to one-hot encoding, the dimensionality will be lower, and the predictive accuracy may be just as good or even better.\n"
      ]
    }
  ]
}